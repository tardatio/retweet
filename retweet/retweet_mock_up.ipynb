{
 "cells": [
  {
   "cell_type": "code",
   "execution_count": 1,
   "id": "c0a84a34",
   "metadata": {},
   "outputs": [],
   "source": [
    "import re\n",
    "from datetime import datetime\n",
    "from pyspark.sql import SparkSession\n",
    "\n",
    "from pyspark.sql.functions import log10, log\n",
    "from pyspark.sql.types import StringType, FloatType, ArrayType, TimestampType, DoubleType\n",
    "from pyspark.sql.functions import col, split, udf, to_timestamp\n",
    "\n",
    "from pyspark.sql.functions import monotonically_increasing_id, row_number\n",
    "from pyspark.sql.window import Window\n",
    "\n",
    "# for the timestamp\n",
    "from pyspark.sql.functions import date_format\n",
    "from pyspark.sql.functions import unix_timestamp\n",
    "\n",
    "spark = SparkSession.builder \\\n",
    "    .master('local[*]') \\\n",
    "     .config(\"spark.driver.memory\", \"15g\") \\\n",
    "    .appName('assignment') \\\n",
    "    .getOrCreate()"
   ]
  },
  {
   "cell_type": "code",
   "execution_count": 2,
   "id": "d88d54d6",
   "metadata": {},
   "outputs": [],
   "source": [
    "from pyspark.ml.feature import VectorAssembler\n",
    "from pyspark.ml.feature import StringIndexer # for days\n",
    "from pyspark.ml.feature import StandardScaler"
   ]
  },
  {
   "cell_type": "code",
   "execution_count": 419,
   "id": "37a06c6e",
   "metadata": {},
   "outputs": [],
   "source": [
    "x_train = spark.read.option(\"sep\", \"\\t\").csv(\"train.data\")\n",
    "y_train = spark.read.csv(\"train.solution\") "
   ]
  },
  {
   "cell_type": "code",
   "execution_count": 420,
   "id": "d1b5595f",
   "metadata": {},
   "outputs": [
    {
     "name": "stdout",
     "output_type": "stream",
     "text": [
      "0:00:00.054363\n"
     ]
    }
   ],
   "source": [
    "now = datetime.now()\n",
    "x_train=x_train.withColumn('row_index', row_number().over(Window.orderBy(monotonically_increasing_id())))\n",
    "y_train=y_train.withColumn('row_index', row_number().over(Window.orderBy(monotonically_increasing_id())))\n",
    "dataset = x_train.join(y_train,'row_index').drop(\"row_index\")\n",
    "print(datetime.now() - now)"
   ]
  },
  {
   "cell_type": "code",
   "execution_count": 421,
   "id": "93303a24",
   "metadata": {},
   "outputs": [
    {
     "data": {
      "text/plain": [
       "'\\nx_train.rdd.getNumPartitions()\\nx_train = x_train.repartition(22)\\ny_train = x_train.repartition(8)\\ndataset = dataset.repartition(30)\\n\\n'"
      ]
     },
     "execution_count": 421,
     "metadata": {},
     "output_type": "execute_result"
    }
   ],
   "source": [
    "## there is partition error, so I tried to use:\n",
    "\"\"\"\n",
    "x_train.rdd.getNumPartitions()\n",
    "x_train = x_train.repartition(22)\n",
    "y_train = x_train.repartition(8)\n",
    "dataset = dataset.repartition(30)\n",
    "\n",
    "\"\"\"\n",
    "##but it doesn't work, so limit row"
   ]
  },
  {
   "cell_type": "code",
   "execution_count": 422,
   "id": "725ce025",
   "metadata": {
    "scrolled": false
   },
   "outputs": [
    {
     "name": "stdout",
     "output_type": "stream",
     "text": [
      "0:00:00.002746\n"
     ]
    }
   ],
   "source": [
    "now = datetime.now()\n",
    "dataset = dataset.limit(100000)\n",
    "#dataset.show(5)\n",
    "print(datetime.now() - now)"
   ]
  },
  {
   "cell_type": "code",
   "execution_count": 423,
   "id": "18c48a6f",
   "metadata": {},
   "outputs": [
    {
     "name": "stdout",
     "output_type": "stream",
     "text": [
      "0:06:04.639446\n"
     ]
    }
   ],
   "source": [
    "now = datetime.now()\n",
    "dataset = dataset.toPandas()\n",
    "dataset.to_csv('dataset.csv', index=False, header=False)\n",
    "print(datetime.now() - now)"
   ]
  },
  {
   "cell_type": "markdown",
   "id": "8d2233fe",
   "metadata": {},
   "source": [
    "## Load small dataset"
   ]
  },
  {
   "cell_type": "code",
   "execution_count": 424,
   "id": "a1c715e9",
   "metadata": {},
   "outputs": [],
   "source": [
    "dataset = spark.read.csv('dataset.csv')"
   ]
  },
  {
   "cell_type": "code",
   "execution_count": 425,
   "id": "0bab253f",
   "metadata": {},
   "outputs": [],
   "source": [
    "feature = open(\"feature.name\",\"r\", encoding='utf-8').read()\n",
    "feature = re.sub('[!@#$]', '', feature)\n",
    "col_name = feature.split(\"\\t\")\n",
    "col_name.append(\"retweets\")"
   ]
  },
  {
   "cell_type": "code",
   "execution_count": 426,
   "id": "fa4967ab",
   "metadata": {
    "scrolled": true
   },
   "outputs": [
    {
     "name": "stdout",
     "output_type": "stream",
     "text": [
      "+-------------------+--------------------+--------------------+---------+-------+---------+--------------------+---------+--------+--------+--------------------+--------+\n",
      "|           tweet_id|            username|           timestamp|followers|friends|favorites|            entities|sentiment|mentions|hashtags|                urls|retweets|\n",
      "+-------------------+--------------------+--------------------+---------+-------+---------+--------------------+---------+--------+--------+--------------------+--------+\n",
      "|1178791787386814465|35234fe4a19cc1a33...|Mon Sep 30 22:00:...|      619|    770|        0|               null;|     2 -1|   null;|   null;|               null;|       0|\n",
      "|1178791985106153472|ea4592f39636d87af...|Mon Sep 30 22:01:...|    36365|  19344|       17|nazi:Nazism:-2.74...|     1 -4|   null;|   null;|https://twitter.c...|      13|\n",
      "|1178793230223183872|bf05d1888dd974fa4...|Mon Sep 30 22:06:...|     5018|   1933|        0|vaccine:Vaccine:-...|     2 -1|   null;|   null;|https://goo.gl/fb...|       0|\n",
      "+-------------------+--------------------+--------------------+---------+-------+---------+--------------------+---------+--------+--------+--------------------+--------+\n",
      "only showing top 3 rows\n",
      "\n"
     ]
    }
   ],
   "source": [
    "dataset = dataset.toDF(*col_name)\n",
    "dataset.show(3)"
   ]
  },
  {
   "cell_type": "code",
   "execution_count": 427,
   "id": "1436b52f",
   "metadata": {},
   "outputs": [],
   "source": [
    "# from statistics import pvariance\n",
    "# from statistics import median\n",
    "# from statistics import mean"
   ]
  },
  {
   "cell_type": "code",
   "execution_count": 428,
   "id": "66266e80",
   "metadata": {},
   "outputs": [],
   "source": [
    "def cleaning(data):\n",
    "    now = datetime.now()\n",
    "    \n",
    "    data = data.withColumn(\"days\", date_format(unix_timestamp(data[\"timestamp\"],  \"EEE MMM dd HH:mm:ss Z yyyy\") \\\n",
    "                                                .cast(TimestampType()),\"EEE\")) # weekdays\n",
    "    \n",
    "    stringIndexer = StringIndexer().setInputCol(\"days\").setOutputCol(\"weeks\") # weekdays to stringIndex\n",
    "    data = stringIndexer.fit(data).transform(data)\n",
    "    \n",
    "    \n",
    "    data = data.withColumn(\"hours\", date_format(unix_timestamp(data[\"timestamp\"],  \"EEE MMM dd HH:mm:ss Z yyyy\") \\\n",
    "                                                .cast(TimestampType()),\"HH\").cast(\"int\")) # hours of day\n",
    "    \n",
    "    def q_hours(x):\n",
    "        if x <= 5: \n",
    "            return 1.0  #0 -> 5\n",
    "        elif x > 5 and x <=11: \n",
    "            return 2.0 #6 -> 11\n",
    "        elif x > 11 and x <=17:\n",
    "            return 3.0  # 12 -> 17\n",
    "        else:\n",
    "            return 4.0 # 18-> 23\n",
    "    q_hour = udf(q_hours, FloatType())\n",
    "    data = data.withColumn(\"q_hours\", q_hour(col(\"hours\"))) # 4 type of hours in a day\n",
    "    \n",
    "    \n",
    "    def to_log(x):\n",
    "        if x == None:\n",
    "            return 0.0\n",
    "        else:\n",
    "            return x\n",
    "\n",
    "    log_to = udf(to_log, DoubleType())\n",
    "    \n",
    "    data = data.withColumn('followers', log_to(log10(col('followers'))))\n",
    "    data = data.withColumn('friends', log_to(log10(col('friends'))))\n",
    "    data = data.withColumn('favorites', log_to(log10(col('favorites'))))\n",
    "    data = data.withColumn('retweets', log_to(log10(col('retweets'))))\n",
    "    \n",
    "    data = data.withColumn(\"posi_sen\", split(data['sentiment'], ' ').getItem(0).cast('float'))\n",
    "    data = data.withColumn(\"nega_sen\", split(data['sentiment'], ' ').getItem(1).cast('float'))\n",
    "   \n",
    "\n",
    "    def ent_count(row):\n",
    "        lis = []\n",
    "        for x in row:\n",
    "            try:\n",
    "                if x[0].isupper() == True:\n",
    "                    #x = re.sub('[!@#$%]', '', x)\n",
    "                    lis.append(x)\n",
    "            except:\n",
    "                continue\n",
    "        if len(lis) == 0:\n",
    "            return 0.0\n",
    "        return float(len(lis)) #sum(lis) / len(lis)\n",
    "\n",
    "    count_ent = udf(ent_count, FloatType())\n",
    "    data = data.withColumn(\"count_ent_an\", count_ent(split('entities', '[;:]')))\n",
    "\n",
    "    def enti_score(row):\n",
    "        lis = []\n",
    "        for x in row:\n",
    "            try:\n",
    "                lis.append(float(x))\n",
    "            except:\n",
    "                continue\n",
    "        if len(lis) == 0:\n",
    "            return 0.0\n",
    "        return sum(lis) / len(lis)\n",
    "    \n",
    "    cal = udf(enti_score, FloatType())\n",
    "    data = data.withColumn(\"ent_score\", cal(split('entities', '[;:]')))\n",
    "\n",
    "    \n",
    "#     hasher = FeatureHasher(inputCols=[\"hashtags\",'mentions'],\n",
    "#                        outputCol=\"hasher\")\n",
    "#     data = hasher.transform(data)\n",
    "\n",
    "\n",
    "    \n",
    "    data = data.select(\"followers\",\"friends\",\"favorites\",\"posi_sen\",\"nega_sen\",\n",
    "                       \"count_ent_an\",\"ent_score\",\"days\",\"weeks\",\"hours\",\"q_hours\", \n",
    "                       \"retweets\")\n",
    "        \n",
    "    print(data.printSchema())\n",
    "    print(datetime.now()-now)\n",
    "    return data"
   ]
  },
  {
   "cell_type": "code",
   "execution_count": 429,
   "id": "7c50d60d",
   "metadata": {
    "scrolled": true
   },
   "outputs": [
    {
     "name": "stdout",
     "output_type": "stream",
     "text": [
      "root\n",
      " |-- followers: double (nullable = true)\n",
      " |-- friends: double (nullable = true)\n",
      " |-- favorites: double (nullable = true)\n",
      " |-- posi_sen: float (nullable = true)\n",
      " |-- nega_sen: float (nullable = true)\n",
      " |-- count_ent_an: float (nullable = true)\n",
      " |-- ent_score: float (nullable = true)\n",
      " |-- days: string (nullable = true)\n",
      " |-- weeks: double (nullable = false)\n",
      " |-- hours: integer (nullable = true)\n",
      " |-- q_hours: float (nullable = true)\n",
      " |-- retweets: double (nullable = true)\n",
      "\n",
      "None\n",
      "0:00:09.702400\n"
     ]
    }
   ],
   "source": [
    "dataset = cleaning(dataset)"
   ]
  },
  {
   "cell_type": "code",
   "execution_count": 198,
   "id": "dc589c5d",
   "metadata": {},
   "outputs": [
    {
     "name": "stdout",
     "output_type": "stream",
     "text": [
      "+-------+\n",
      "|q_hours|\n",
      "+-------+\n",
      "|    3.0|\n",
      "|    3.0|\n",
      "+-------+\n",
      "only showing top 2 rows\n",
      "\n"
     ]
    }
   ],
   "source": [
    "#dataset.select(\"hours\",\"hours1\").show()\n",
    "dataset.filter(dataset[\"hours\"]== 17).select(\"q_hours\").show(2)"
   ]
  },
  {
   "cell_type": "code",
   "execution_count": 200,
   "id": "7bc658ed",
   "metadata": {
    "scrolled": true
   },
   "outputs": [
    {
     "name": "stdout",
     "output_type": "stream",
     "text": [
      "+----+\n",
      "|days|\n",
      "+----+\n",
      "| Wed|\n",
      "| Wed|\n",
      "+----+\n",
      "only showing top 2 rows\n",
      "\n"
     ]
    }
   ],
   "source": [
    "dataset.filter(dataset['days']!=\"Tue\").select(\"days\").show(2)"
   ]
  },
  {
   "cell_type": "code",
   "execution_count": null,
   "id": "17d6e0d3",
   "metadata": {},
   "outputs": [],
   "source": [
    "# df.filter(df['weeks']!=3) \\\n",
    "# .filter(df['weeks']!=0) \\\n",
    "# .filter(df['weeks']!=2) \\\n",
    "# .filter(df['weeks']!=1) \\\n",
    "# .filter(df['weeks']!=6) \\\n",
    "# .filter(df['weeks']!=5) \\\n",
    "# .filter(df['weeks']!=4) \\\n",
    "# .select(\"weeks\").show(10)"
   ]
  },
  {
   "cell_type": "code",
   "execution_count": null,
   "id": "905f71fa",
   "metadata": {},
   "outputs": [],
   "source": []
  },
  {
   "cell_type": "code",
   "execution_count": 46,
   "id": "b51100bd",
   "metadata": {},
   "outputs": [],
   "source": []
  },
  {
   "cell_type": "code",
   "execution_count": 47,
   "id": "e3ce932b",
   "metadata": {},
   "outputs": [],
   "source": []
  },
  {
   "cell_type": "markdown",
   "id": "207f97d6",
   "metadata": {},
   "source": [
    "## Linear Regression"
   ]
  },
  {
   "cell_type": "code",
   "execution_count": 430,
   "id": "93469729",
   "metadata": {},
   "outputs": [],
   "source": [
    "three = VectorAssembler().setInputCols(['followers',\"friends\",\"favorites\",\"posi_sen\",\n",
    "                                            \"nega_sen\",\"count_ent_an\",\"ent_score\",\"weeks\",\"q_hours\"])\\\n",
    "        .setOutputCol(\"features\")\n",
    "data = three.transform(dataset)"
   ]
  },
  {
   "cell_type": "code",
   "execution_count": 431,
   "id": "4e85d31e",
   "metadata": {},
   "outputs": [
    {
     "name": "stdout",
     "output_type": "stream",
     "text": [
      "root\n",
      " |-- followers: double (nullable = true)\n",
      " |-- friends: double (nullable = true)\n",
      " |-- favorites: double (nullable = true)\n",
      " |-- posi_sen: float (nullable = true)\n",
      " |-- nega_sen: float (nullable = true)\n",
      " |-- count_ent_an: float (nullable = true)\n",
      " |-- ent_score: float (nullable = true)\n",
      " |-- days: string (nullable = true)\n",
      " |-- weeks: double (nullable = false)\n",
      " |-- hours: integer (nullable = true)\n",
      " |-- q_hours: float (nullable = true)\n",
      " |-- retweets: double (nullable = true)\n",
      " |-- features: vector (nullable = true)\n",
      "\n"
     ]
    }
   ],
   "source": [
    "data.printSchema()"
   ]
  },
  {
   "cell_type": "code",
   "execution_count": 432,
   "id": "93a34ef1",
   "metadata": {},
   "outputs": [],
   "source": [
    "train, test = data.randomSplit(weights=[0.8,0.2], seed=42)"
   ]
  },
  {
   "cell_type": "code",
   "execution_count": 433,
   "id": "aacb7cbd",
   "metadata": {},
   "outputs": [],
   "source": [
    "from pyspark.ml import Pipeline\n",
    "from pyspark.ml.regression import LinearRegression"
   ]
  },
  {
   "cell_type": "code",
   "execution_count": 434,
   "id": "fde259ae",
   "metadata": {},
   "outputs": [],
   "source": [
    "### without pipeline"
   ]
  },
  {
   "cell_type": "code",
   "execution_count": 435,
   "id": "2b30da39",
   "metadata": {},
   "outputs": [],
   "source": [
    "lr = LinearRegression(featuresCol=\"features\", labelCol='retweets')"
   ]
  },
  {
   "cell_type": "code",
   "execution_count": 436,
   "id": "cc636fbb",
   "metadata": {},
   "outputs": [
    {
     "name": "stdout",
     "output_type": "stream",
     "text": [
      "0:01:11.220537\n"
     ]
    }
   ],
   "source": [
    "now = datetime.now()\n",
    "lrmodel = lr.fit(train)\n",
    "print(datetime.now()-now)"
   ]
  },
  {
   "cell_type": "code",
   "execution_count": 437,
   "id": "ab9f2d89",
   "metadata": {},
   "outputs": [],
   "source": [
    "pred = lrmodel.transform(test)"
   ]
  },
  {
   "cell_type": "code",
   "execution_count": 438,
   "id": "532b707e",
   "metadata": {},
   "outputs": [
    {
     "name": "stdout",
     "output_type": "stream",
     "text": [
      "+--------------------+--------+--------------------+\n",
      "|            features|retweets|          prediction|\n",
      "+--------------------+--------+--------------------+\n",
      "|[0.0,0.0,0.0,1.0,...|     0.0|-0.00963023395065...|\n",
      "|(9,[3,4,7,8],[1.0...|     0.0|-0.03684810167350356|\n",
      "|(9,[3,4,8],[1.0,-...|     0.0|-0.03215844047041...|\n",
      "|(9,[3,4,8],[1.0,-...|     0.0|-0.03831059288963906|\n",
      "|[0.0,0.0,0.0,1.0,...|     0.0| 0.05147787570134712|\n",
      "|[0.0,0.0,0.0,1.0,...|     0.0|-0.03501733933063...|\n",
      "|[0.0,0.0,0.0,1.0,...|     0.0|0.015612736874337618|\n",
      "|[0.0,0.0,0.0,1.0,...|     0.0|0.008029673364279268|\n",
      "|[0.0,0.0,0.0,2.0,...|     0.0|-0.01603075050056...|\n",
      "|[0.0,0.0,0.0,2.0,...|     0.0|-0.02310754013260...|\n",
      "+--------------------+--------+--------------------+\n",
      "only showing top 10 rows\n",
      "\n"
     ]
    }
   ],
   "source": [
    "pred.select(\"features\",\"retweets\",\"prediction\").show(10)"
   ]
  },
  {
   "cell_type": "code",
   "execution_count": 439,
   "id": "ed0bc4ad",
   "metadata": {},
   "outputs": [],
   "source": [
    "from pyspark.ml.evaluation import RegressionEvaluator"
   ]
  },
  {
   "cell_type": "code",
   "execution_count": 440,
   "id": "7b37f67b",
   "metadata": {},
   "outputs": [],
   "source": [
    "regressionEvaluator = RegressionEvaluator(predictionCol=\"prediction\", labelCol=\"retweets\",metricName='rmse')"
   ]
  },
  {
   "cell_type": "code",
   "execution_count": 441,
   "id": "bfae1e63",
   "metadata": {},
   "outputs": [
    {
     "name": "stdout",
     "output_type": "stream",
     "text": [
      "RMSE is 0.2\n"
     ]
    }
   ],
   "source": [
    "rmse = regressionEvaluator.evaluate(pred)\n",
    "print(f\"RMSE is {rmse:.1f}\")"
   ]
  },
  {
   "cell_type": "code",
   "execution_count": 442,
   "id": "4ebb836f",
   "metadata": {},
   "outputs": [
    {
     "name": "stdout",
     "output_type": "stream",
     "text": [
      "R2 is 0.9087026295443565\n"
     ]
    }
   ],
   "source": [
    "r2 = regressionEvaluator.setMetricName('r2').evaluate(pred)\n",
    "print(f\"R2 is {r2}\")"
   ]
  },
  {
   "cell_type": "code",
   "execution_count": null,
   "id": "c06f2237",
   "metadata": {},
   "outputs": [],
   "source": []
  },
  {
   "cell_type": "code",
   "execution_count": null,
   "id": "a9576075",
   "metadata": {},
   "outputs": [],
   "source": []
  },
  {
   "cell_type": "markdown",
   "id": "b368e187",
   "metadata": {},
   "source": [
    "## Random Forest"
   ]
  },
  {
   "cell_type": "code",
   "execution_count": 443,
   "id": "9b07f108",
   "metadata": {},
   "outputs": [],
   "source": [
    "train, test = data.randomSplit(weights=[0.8,0.2], seed=42)"
   ]
  },
  {
   "cell_type": "code",
   "execution_count": 444,
   "id": "0d882320",
   "metadata": {},
   "outputs": [],
   "source": [
    "from pyspark.ml import Pipeline"
   ]
  },
  {
   "cell_type": "code",
   "execution_count": 445,
   "id": "638d95cb",
   "metadata": {},
   "outputs": [],
   "source": [
    "from pyspark.ml.regression import RandomForestRegressor"
   ]
  },
  {
   "cell_type": "code",
   "execution_count": 446,
   "id": "0b6bdc4f",
   "metadata": {},
   "outputs": [],
   "source": [
    "rf = RandomForestRegressor(labelCol=\"retweets\", maxBins=100, seed=42)"
   ]
  },
  {
   "cell_type": "code",
   "execution_count": 447,
   "id": "46a7b3a0",
   "metadata": {},
   "outputs": [],
   "source": [
    "rfmodel = rf.fit(train)"
   ]
  },
  {
   "cell_type": "code",
   "execution_count": 448,
   "id": "d80a00b3",
   "metadata": {},
   "outputs": [],
   "source": [
    "pred = rfmodel.transform(test)"
   ]
  },
  {
   "cell_type": "code",
   "execution_count": 449,
   "id": "e25adea1",
   "metadata": {},
   "outputs": [],
   "source": [
    "regressionEvaluator = RegressionEvaluator(predictionCol=\"prediction\", labelCol=\"retweets\",metricName='rmse')"
   ]
  },
  {
   "cell_type": "code",
   "execution_count": 450,
   "id": "79f000e4",
   "metadata": {},
   "outputs": [
    {
     "name": "stdout",
     "output_type": "stream",
     "text": [
      "RMSE is 0.3\n"
     ]
    }
   ],
   "source": [
    "rmse = regressionEvaluator.evaluate(pred)\n",
    "print(f\"RMSE is {rmse:.1f}\")"
   ]
  },
  {
   "cell_type": "code",
   "execution_count": 451,
   "id": "ae6edf3f",
   "metadata": {
    "scrolled": true
   },
   "outputs": [
    {
     "name": "stdout",
     "output_type": "stream",
     "text": [
      "R2 is 0.8543836339798685\n"
     ]
    }
   ],
   "source": [
    "r2 = regressionEvaluator.setMetricName('r2').evaluate(pred)\n",
    "print(f\"R2 is {r2}\")"
   ]
  },
  {
   "cell_type": "code",
   "execution_count": null,
   "id": "f293e9f0",
   "metadata": {},
   "outputs": [],
   "source": []
  },
  {
   "cell_type": "markdown",
   "id": "e400e915",
   "metadata": {},
   "source": [
    "## Cross validation"
   ]
  },
  {
   "cell_type": "code",
   "execution_count": 452,
   "id": "997ba144",
   "metadata": {},
   "outputs": [],
   "source": [
    "from pyspark.ml.tuning import ParamGridBuilder\n",
    "paramGrid = (ParamGridBuilder()\n",
    "    .addGrid(rf.maxDepth, [2, 4, 6])\n",
    "    .addGrid(rf.numTrees, [10, 100])\n",
    "    .build())\n",
    "evaluator = RegressionEvaluator(labelCol=\"retweets\",\n",
    "    predictionCol=\"prediction\",\n",
    "    metricName=\"r2\")"
   ]
  },
  {
   "cell_type": "code",
   "execution_count": 453,
   "id": "99fabafc",
   "metadata": {},
   "outputs": [],
   "source": [
    "from pyspark.ml.tuning import CrossValidator\n",
    "cv = CrossValidator(estimator=rf,\n",
    " evaluator=evaluator,\n",
    " estimatorParamMaps=paramGrid,\n",
    " numFolds=3,\n",
    " seed=42)\n",
    "cvModel = cv.fit(test)"
   ]
  },
  {
   "cell_type": "code",
   "execution_count": 454,
   "id": "47885a3f",
   "metadata": {},
   "outputs": [
    {
     "data": {
      "text/plain": [
       "[({Param(parent='RandomForestRegressor_256fa70bcbf5', name='maxDepth', doc='Maximum depth of the tree. (>= 0) E.g., depth 0 means 1 leaf node; depth 1 means 1 internal node + 2 leaf nodes.'): 2,\n",
       "   Param(parent='RandomForestRegressor_256fa70bcbf5', name='numTrees', doc='Number of trees to train (>= 1).'): 10},\n",
       "  0.7293514244130832),\n",
       " ({Param(parent='RandomForestRegressor_256fa70bcbf5', name='maxDepth', doc='Maximum depth of the tree. (>= 0) E.g., depth 0 means 1 leaf node; depth 1 means 1 internal node + 2 leaf nodes.'): 2,\n",
       "   Param(parent='RandomForestRegressor_256fa70bcbf5', name='numTrees', doc='Number of trees to train (>= 1).'): 100},\n",
       "  0.6826560721704035),\n",
       " ({Param(parent='RandomForestRegressor_256fa70bcbf5', name='maxDepth', doc='Maximum depth of the tree. (>= 0) E.g., depth 0 means 1 leaf node; depth 1 means 1 internal node + 2 leaf nodes.'): 4,\n",
       "   Param(parent='RandomForestRegressor_256fa70bcbf5', name='numTrees', doc='Number of trees to train (>= 1).'): 10},\n",
       "  0.8258572679017577),\n",
       " ({Param(parent='RandomForestRegressor_256fa70bcbf5', name='maxDepth', doc='Maximum depth of the tree. (>= 0) E.g., depth 0 means 1 leaf node; depth 1 means 1 internal node + 2 leaf nodes.'): 4,\n",
       "   Param(parent='RandomForestRegressor_256fa70bcbf5', name='numTrees', doc='Number of trees to train (>= 1).'): 100},\n",
       "  0.8284783362593346),\n",
       " ({Param(parent='RandomForestRegressor_256fa70bcbf5', name='maxDepth', doc='Maximum depth of the tree. (>= 0) E.g., depth 0 means 1 leaf node; depth 1 means 1 internal node + 2 leaf nodes.'): 6,\n",
       "   Param(parent='RandomForestRegressor_256fa70bcbf5', name='numTrees', doc='Number of trees to train (>= 1).'): 10},\n",
       "  0.8703811701944975),\n",
       " ({Param(parent='RandomForestRegressor_256fa70bcbf5', name='maxDepth', doc='Maximum depth of the tree. (>= 0) E.g., depth 0 means 1 leaf node; depth 1 means 1 internal node + 2 leaf nodes.'): 6,\n",
       "   Param(parent='RandomForestRegressor_256fa70bcbf5', name='numTrees', doc='Number of trees to train (>= 1).'): 100},\n",
       "  0.8802035743929438)]"
      ]
     },
     "execution_count": 454,
     "metadata": {},
     "output_type": "execute_result"
    }
   ],
   "source": [
    "list(zip(cvModel.getEstimatorParamMaps(), cvModel.avgMetrics))"
   ]
  },
  {
   "cell_type": "code",
   "execution_count": null,
   "id": "cfd16dbb",
   "metadata": {},
   "outputs": [],
   "source": []
  },
  {
   "cell_type": "markdown",
   "id": "bff3ca25",
   "metadata": {},
   "source": [
    "## Tensorflow"
   ]
  },
  {
   "cell_type": "code",
   "execution_count": 455,
   "id": "a52a94e8",
   "metadata": {},
   "outputs": [],
   "source": [
    "import pandas as pd"
   ]
  },
  {
   "cell_type": "code",
   "execution_count": 456,
   "id": "874c4ef9",
   "metadata": {
    "scrolled": true
   },
   "outputs": [
    {
     "name": "stdout",
     "output_type": "stream",
     "text": [
      "0:00:13.723471\n"
     ]
    }
   ],
   "source": [
    "now = datetime.now()\n",
    "df = dataset.toPandas()\n",
    "df.to_csv('tensor.csv', index=False)\n",
    "print(datetime.now() - now)"
   ]
  },
  {
   "cell_type": "code",
   "execution_count": 457,
   "id": "2413bbc5",
   "metadata": {
    "scrolled": true
   },
   "outputs": [
    {
     "data": {
      "text/html": [
       "<div>\n",
       "<style scoped>\n",
       "    .dataframe tbody tr th:only-of-type {\n",
       "        vertical-align: middle;\n",
       "    }\n",
       "\n",
       "    .dataframe tbody tr th {\n",
       "        vertical-align: top;\n",
       "    }\n",
       "\n",
       "    .dataframe thead th {\n",
       "        text-align: right;\n",
       "    }\n",
       "</style>\n",
       "<table border=\"1\" class=\"dataframe\">\n",
       "  <thead>\n",
       "    <tr style=\"text-align: right;\">\n",
       "      <th></th>\n",
       "      <th>followers</th>\n",
       "      <th>friends</th>\n",
       "      <th>favorites</th>\n",
       "      <th>posi_sen</th>\n",
       "      <th>nega_sen</th>\n",
       "      <th>count_ent_an</th>\n",
       "      <th>ent_score</th>\n",
       "      <th>days</th>\n",
       "      <th>weeks</th>\n",
       "      <th>hours</th>\n",
       "      <th>q_hours</th>\n",
       "      <th>retweets</th>\n",
       "    </tr>\n",
       "  </thead>\n",
       "  <tbody>\n",
       "    <tr>\n",
       "      <th>0</th>\n",
       "      <td>2.791691</td>\n",
       "      <td>2.886491</td>\n",
       "      <td>0.000000</td>\n",
       "      <td>2.0</td>\n",
       "      <td>-1.0</td>\n",
       "      <td>0.0</td>\n",
       "      <td>0.000000</td>\n",
       "      <td>Tue</td>\n",
       "      <td>0.0</td>\n",
       "      <td>0</td>\n",
       "      <td>1.0</td>\n",
       "      <td>0.000000</td>\n",
       "    </tr>\n",
       "    <tr>\n",
       "      <th>1</th>\n",
       "      <td>4.560684</td>\n",
       "      <td>4.286546</td>\n",
       "      <td>1.230449</td>\n",
       "      <td>1.0</td>\n",
       "      <td>-4.0</td>\n",
       "      <td>2.0</td>\n",
       "      <td>-2.850048</td>\n",
       "      <td>Tue</td>\n",
       "      <td>0.0</td>\n",
       "      <td>0</td>\n",
       "      <td>1.0</td>\n",
       "      <td>1.113943</td>\n",
       "    </tr>\n",
       "    <tr>\n",
       "      <th>2</th>\n",
       "      <td>3.700531</td>\n",
       "      <td>3.286232</td>\n",
       "      <td>0.000000</td>\n",
       "      <td>2.0</td>\n",
       "      <td>-1.0</td>\n",
       "      <td>3.0</td>\n",
       "      <td>-2.763547</td>\n",
       "      <td>Tue</td>\n",
       "      <td>0.0</td>\n",
       "      <td>0</td>\n",
       "      <td>1.0</td>\n",
       "      <td>0.000000</td>\n",
       "    </tr>\n",
       "    <tr>\n",
       "      <th>3</th>\n",
       "      <td>3.346157</td>\n",
       "      <td>2.987219</td>\n",
       "      <td>0.000000</td>\n",
       "      <td>2.0</td>\n",
       "      <td>-1.0</td>\n",
       "      <td>2.0</td>\n",
       "      <td>-2.463227</td>\n",
       "      <td>Tue</td>\n",
       "      <td>0.0</td>\n",
       "      <td>0</td>\n",
       "      <td>1.0</td>\n",
       "      <td>0.000000</td>\n",
       "    </tr>\n",
       "    <tr>\n",
       "      <th>4</th>\n",
       "      <td>3.954677</td>\n",
       "      <td>3.693991</td>\n",
       "      <td>1.949390</td>\n",
       "      <td>2.0</td>\n",
       "      <td>-1.0</td>\n",
       "      <td>2.0</td>\n",
       "      <td>-2.622788</td>\n",
       "      <td>Tue</td>\n",
       "      <td>0.0</td>\n",
       "      <td>0</td>\n",
       "      <td>1.0</td>\n",
       "      <td>1.414973</td>\n",
       "    </tr>\n",
       "  </tbody>\n",
       "</table>\n",
       "</div>"
      ],
      "text/plain": [
       "   followers   friends  favorites  posi_sen  nega_sen  count_ent_an  \\\n",
       "0   2.791691  2.886491   0.000000       2.0      -1.0           0.0   \n",
       "1   4.560684  4.286546   1.230449       1.0      -4.0           2.0   \n",
       "2   3.700531  3.286232   0.000000       2.0      -1.0           3.0   \n",
       "3   3.346157  2.987219   0.000000       2.0      -1.0           2.0   \n",
       "4   3.954677  3.693991   1.949390       2.0      -1.0           2.0   \n",
       "\n",
       "   ent_score days  weeks  hours  q_hours  retweets  \n",
       "0   0.000000  Tue    0.0      0      1.0  0.000000  \n",
       "1  -2.850048  Tue    0.0      0      1.0  1.113943  \n",
       "2  -2.763547  Tue    0.0      0      1.0  0.000000  \n",
       "3  -2.463227  Tue    0.0      0      1.0  0.000000  \n",
       "4  -2.622788  Tue    0.0      0      1.0  1.414973  "
      ]
     },
     "execution_count": 457,
     "metadata": {},
     "output_type": "execute_result"
    }
   ],
   "source": [
    "df = pd.read_csv('tensor.csv')\n",
    "df.head()"
   ]
  },
  {
   "cell_type": "code",
   "execution_count": 458,
   "id": "ce1b1e89",
   "metadata": {},
   "outputs": [],
   "source": [
    "del df['days']\n",
    "del df['hours']"
   ]
  },
  {
   "cell_type": "code",
   "execution_count": 459,
   "id": "a334aa05",
   "metadata": {
    "scrolled": true
   },
   "outputs": [
    {
     "name": "stdout",
     "output_type": "stream",
     "text": [
      "<class 'pandas.core.frame.DataFrame'>\n",
      "RangeIndex: 100000 entries, 0 to 99999\n",
      "Data columns (total 10 columns):\n",
      " #   Column        Non-Null Count   Dtype  \n",
      "---  ------        --------------   -----  \n",
      " 0   followers     100000 non-null  float64\n",
      " 1   friends       100000 non-null  float64\n",
      " 2   favorites     100000 non-null  float64\n",
      " 3   posi_sen      100000 non-null  float64\n",
      " 4   nega_sen      100000 non-null  float64\n",
      " 5   count_ent_an  100000 non-null  float64\n",
      " 6   ent_score     100000 non-null  float64\n",
      " 7   weeks         100000 non-null  float64\n",
      " 8   q_hours       100000 non-null  float64\n",
      " 9   retweets      100000 non-null  float64\n",
      "dtypes: float64(10)\n",
      "memory usage: 7.6 MB\n"
     ]
    }
   ],
   "source": [
    "df.info()"
   ]
  },
  {
   "cell_type": "code",
   "execution_count": 460,
   "id": "fa4b0986",
   "metadata": {},
   "outputs": [],
   "source": [
    "x = df.iloc[:, 0:-1].values.astype(float)\n",
    "y = df.iloc[:, -1].values.astype(float)"
   ]
  },
  {
   "cell_type": "code",
   "execution_count": 461,
   "id": "f9073fd1",
   "metadata": {},
   "outputs": [],
   "source": [
    "from sklearn.preprocessing import StandardScaler\n",
    "sc = StandardScaler()\n",
    "x = sc.fit_transform(x)"
   ]
  },
  {
   "cell_type": "code",
   "execution_count": 462,
   "id": "c569dedf",
   "metadata": {},
   "outputs": [],
   "source": [
    "from sklearn.model_selection import train_test_split\n",
    "X_train, X_test, y_train, y_test = train_test_split(x, y, test_size = 0.2, random_state = 42)"
   ]
  },
  {
   "cell_type": "code",
   "execution_count": null,
   "id": "eafd1ad9",
   "metadata": {},
   "outputs": [],
   "source": [
    "from tensorflow.keras.models import Sequential\n",
    "from tensorflow.keras.layers import Dense, BatchNormalization\n",
    "import tensorflow.keras.backend as K\n",
    "\n",
    "# https://stackoverflow.com/questions/42665359/how-do-you-compute-accuracy-in-a-regression-model-after-rounding-predictions-to\n",
    "def soft_acc(y_true, y_pred):\n",
    "    return K.mean(K.equal(K.round(y_true), K.round(y_pred)))"
   ]
  },
  {
   "cell_type": "code",
   "execution_count": 630,
   "id": "a3bfbf0f",
   "metadata": {},
   "outputs": [],
   "source": [
    "def Model():\n",
    "    \n",
    "    model = Sequential([\n",
    "        Dense(90, input_shape=(9,), activation=\"relu\"),\n",
    "        BatchNormalization(),\n",
    "        Dense(162, activation='relu'),\n",
    "        BatchNormalization(),\n",
    "        Dense(162, activation='relu'),\n",
    "        BatchNormalization(),\n",
    "        Dense(63, activation='relu'),\n",
    "        BatchNormalization(),\n",
    "        Dense(32, activation='relu'),\n",
    "        BatchNormalization(),\n",
    "        Dense(1)\n",
    "        \n",
    "    ])\n",
    "    \n",
    "#     model.compile(optimizer = 'Nadam', loss = 'mse', metrics = ['accuracy'])\n",
    "    model.compile(optimizer = 'adam', loss = 'mse', metrics = [soft_acc])\n",
    "    return model"
   ]
  },
  {
   "cell_type": "code",
   "execution_count": 632,
   "id": "fdc0e427",
   "metadata": {},
   "outputs": [
    {
     "name": "stdout",
     "output_type": "stream",
     "text": [
      "Epoch 1/100\n",
      "WARNING: AutoGraph could not transform <function Model.make_train_function.<locals>.train_function at 0x7fd2efb31950> and will run it as-is.\n",
      "Please report this to the TensorFlow team. When filing the bug, set the verbosity to 10 (on Linux, `export AUTOGRAPH_VERBOSITY=10`) and attach the full output.\n",
      "Cause: Bad argument number for Name: 4, expecting 3\n",
      "To silence this warning, decorate the function with @tf.autograph.experimental.do_not_convert\n",
      "64/64 [==============================] - ETA: 0s - loss: 0.2969 - soft_acc: 0.7214WARNING: AutoGraph could not transform <function Model.make_test_function.<locals>.test_function at 0x7fd2ecc84598> and will run it as-is.\n",
      "Please report this to the TensorFlow team. When filing the bug, set the verbosity to 10 (on Linux, `export AUTOGRAPH_VERBOSITY=10`) and attach the full output.\n",
      "Cause: Bad argument number for Name: 4, expecting 3\n",
      "To silence this warning, decorate the function with @tf.autograph.experimental.do_not_convert\n",
      "64/64 [==============================] - 2s 28ms/step - loss: 0.2969 - soft_acc: 0.7214 - val_loss: 0.3586 - val_soft_acc: 0.7664\n",
      "Epoch 2/100\n",
      "64/64 [==============================] - 2s 27ms/step - loss: 0.0730 - soft_acc: 0.8769 - val_loss: 0.2872 - val_soft_acc: 0.7626\n",
      "Epoch 3/100\n",
      "64/64 [==============================] - 2s 25ms/step - loss: 0.0619 - soft_acc: 0.8853 - val_loss: 0.1992 - val_soft_acc: 0.7987\n",
      "Epoch 4/100\n",
      "64/64 [==============================] - 1s 19ms/step - loss: 0.0564 - soft_acc: 0.8902 - val_loss: 0.1289 - val_soft_acc: 0.8339\n",
      "Epoch 5/100\n",
      "64/64 [==============================] - 1s 21ms/step - loss: 0.0537 - soft_acc: 0.8914 - val_loss: 0.0925 - val_soft_acc: 0.8584\n",
      "Epoch 6/100\n",
      "64/64 [==============================] - 1s 22ms/step - loss: 0.0520 - soft_acc: 0.8925 - val_loss: 0.0754 - val_soft_acc: 0.8675\n",
      "Epoch 7/100\n",
      "64/64 [==============================] - 1s 20ms/step - loss: 0.0508 - soft_acc: 0.8935 - val_loss: 0.0607 - val_soft_acc: 0.8809\n",
      "Epoch 8/100\n",
      "64/64 [==============================] - 1s 22ms/step - loss: 0.0486 - soft_acc: 0.8955 - val_loss: 0.0570 - val_soft_acc: 0.8865\n",
      "Epoch 9/100\n",
      "64/64 [==============================] - 1s 22ms/step - loss: 0.0490 - soft_acc: 0.8936 - val_loss: 0.0517 - val_soft_acc: 0.8924\n",
      "Epoch 10/100\n",
      "64/64 [==============================] - 1s 20ms/step - loss: 0.0475 - soft_acc: 0.8957 - val_loss: 0.0535 - val_soft_acc: 0.8899\n",
      "Epoch 11/100\n",
      "64/64 [==============================] - 1s 21ms/step - loss: 0.0466 - soft_acc: 0.8969 - val_loss: 0.0528 - val_soft_acc: 0.8927\n",
      "Epoch 12/100\n",
      "64/64 [==============================] - 1s 21ms/step - loss: 0.0468 - soft_acc: 0.8976 - val_loss: 0.0522 - val_soft_acc: 0.8938\n",
      "Epoch 13/100\n",
      "64/64 [==============================] - 1s 20ms/step - loss: 0.0465 - soft_acc: 0.8972 - val_loss: 0.0516 - val_soft_acc: 0.8937\n",
      "Epoch 14/100\n",
      "64/64 [==============================] - 1s 18ms/step - loss: 0.0451 - soft_acc: 0.8987 - val_loss: 0.0513 - val_soft_acc: 0.8915\n",
      "Epoch 15/100\n",
      "64/64 [==============================] - 1s 18ms/step - loss: 0.0452 - soft_acc: 0.8985 - val_loss: 0.0514 - val_soft_acc: 0.8938\n",
      "Epoch 16/100\n",
      "64/64 [==============================] - 1s 19ms/step - loss: 0.0450 - soft_acc: 0.8987 - val_loss: 0.0509 - val_soft_acc: 0.8928\n",
      "Epoch 17/100\n",
      "64/64 [==============================] - 1s 21ms/step - loss: 0.0444 - soft_acc: 0.8995 - val_loss: 0.0508 - val_soft_acc: 0.8937\n",
      "Epoch 18/100\n",
      "64/64 [==============================] - 1s 21ms/step - loss: 0.0447 - soft_acc: 0.8991 - val_loss: 0.0504 - val_soft_acc: 0.8941\n",
      "Epoch 19/100\n",
      "64/64 [==============================] - 1s 21ms/step - loss: 0.0438 - soft_acc: 0.8997 - val_loss: 0.0514 - val_soft_acc: 0.8902\n",
      "Epoch 20/100\n",
      "64/64 [==============================] - 1s 18ms/step - loss: 0.0438 - soft_acc: 0.8996 - val_loss: 0.0527 - val_soft_acc: 0.8883\n",
      "Epoch 21/100\n",
      "64/64 [==============================] - 1s 17ms/step - loss: 0.0430 - soft_acc: 0.9008 - val_loss: 0.0503 - val_soft_acc: 0.8929\n",
      "Epoch 22/100\n",
      "64/64 [==============================] - 1s 17ms/step - loss: 0.0430 - soft_acc: 0.9007 - val_loss: 0.0506 - val_soft_acc: 0.8941\n",
      "Epoch 23/100\n",
      "64/64 [==============================] - 2s 29ms/step - loss: 0.0428 - soft_acc: 0.9008 - val_loss: 0.0498 - val_soft_acc: 0.8912\n",
      "Epoch 24/100\n",
      "64/64 [==============================] - 1s 23ms/step - loss: 0.0425 - soft_acc: 0.9010 - val_loss: 0.0517 - val_soft_acc: 0.8884\n",
      "Epoch 25/100\n",
      "64/64 [==============================] - 1s 23ms/step - loss: 0.0420 - soft_acc: 0.9019 - val_loss: 0.0510 - val_soft_acc: 0.8899\n",
      "Epoch 26/100\n",
      "64/64 [==============================] - 1s 23ms/step - loss: 0.0423 - soft_acc: 0.9019 - val_loss: 0.0502 - val_soft_acc: 0.8923\n",
      "Epoch 27/100\n",
      "64/64 [==============================] - 1s 22ms/step - loss: 0.0418 - soft_acc: 0.9012 - val_loss: 0.0512 - val_soft_acc: 0.8922\n",
      "Epoch 28/100\n",
      "64/64 [==============================] - 3s 47ms/step - loss: 0.0415 - soft_acc: 0.9035 - val_loss: 0.0505 - val_soft_acc: 0.8925\n",
      "Epoch 29/100\n",
      "64/64 [==============================] - 3s 41ms/step - loss: 0.0416 - soft_acc: 0.9031 - val_loss: 0.0511 - val_soft_acc: 0.8936\n",
      "Epoch 30/100\n",
      "64/64 [==============================] - 1s 22ms/step - loss: 0.0410 - soft_acc: 0.9029 - val_loss: 0.0511 - val_soft_acc: 0.8917\n",
      "Epoch 31/100\n",
      "64/64 [==============================] - 1s 22ms/step - loss: 0.0412 - soft_acc: 0.9032 - val_loss: 0.0520 - val_soft_acc: 0.8903\n",
      "Epoch 32/100\n",
      "64/64 [==============================] - 1s 19ms/step - loss: 0.0408 - soft_acc: 0.9024 - val_loss: 0.0526 - val_soft_acc: 0.8903\n",
      "Epoch 33/100\n",
      "64/64 [==============================] - 1s 19ms/step - loss: 0.0406 - soft_acc: 0.9032 - val_loss: 0.0512 - val_soft_acc: 0.8942\n",
      "Epoch 34/100\n",
      "64/64 [==============================] - 2s 37ms/step - loss: 0.0402 - soft_acc: 0.9039 - val_loss: 0.0514 - val_soft_acc: 0.8923\n",
      "Epoch 35/100\n",
      "64/64 [==============================] - 2s 35ms/step - loss: 0.0401 - soft_acc: 0.9044 - val_loss: 0.0514 - val_soft_acc: 0.8913\n",
      "Epoch 36/100\n",
      "64/64 [==============================] - 2s 27ms/step - loss: 0.0396 - soft_acc: 0.9050 - val_loss: 0.0521 - val_soft_acc: 0.8909\n",
      "Epoch 37/100\n",
      "64/64 [==============================] - 2s 30ms/step - loss: 0.0400 - soft_acc: 0.9044 - val_loss: 0.0516 - val_soft_acc: 0.8912\n",
      "Epoch 38/100\n",
      "64/64 [==============================] - 2s 27ms/step - loss: 0.0399 - soft_acc: 0.9055 - val_loss: 0.0517 - val_soft_acc: 0.8903\n",
      "Epoch 39/100\n",
      "64/64 [==============================] - 2s 25ms/step - loss: 0.0398 - soft_acc: 0.9047 - val_loss: 0.0521 - val_soft_acc: 0.8922\n",
      "Epoch 40/100\n",
      "64/64 [==============================] - 1s 22ms/step - loss: 0.0397 - soft_acc: 0.9053 - val_loss: 0.0514 - val_soft_acc: 0.8914\n",
      "Epoch 41/100\n",
      "64/64 [==============================] - 1s 22ms/step - loss: 0.0391 - soft_acc: 0.9052 - val_loss: 0.0517 - val_soft_acc: 0.8900\n",
      "Epoch 42/100\n",
      "64/64 [==============================] - 1s 22ms/step - loss: 0.0386 - soft_acc: 0.9051 - val_loss: 0.0525 - val_soft_acc: 0.8900\n",
      "Epoch 43/100\n",
      "64/64 [==============================] - 1s 22ms/step - loss: 0.0387 - soft_acc: 0.9056 - val_loss: 0.0530 - val_soft_acc: 0.8898\n",
      "Epoch 44/100\n",
      "64/64 [==============================] - 2s 35ms/step - loss: 0.0387 - soft_acc: 0.9055 - val_loss: 0.0520 - val_soft_acc: 0.8919\n",
      "Epoch 45/100\n",
      "64/64 [==============================] - 1s 22ms/step - loss: 0.0383 - soft_acc: 0.9068 - val_loss: 0.0534 - val_soft_acc: 0.8877\n",
      "Epoch 46/100\n",
      "64/64 [==============================] - 1s 22ms/step - loss: 0.0382 - soft_acc: 0.9061 - val_loss: 0.0524 - val_soft_acc: 0.8904\n",
      "Epoch 47/100\n",
      "64/64 [==============================] - 1s 23ms/step - loss: 0.0387 - soft_acc: 0.9061 - val_loss: 0.0525 - val_soft_acc: 0.8906\n",
      "Epoch 48/100\n",
      "64/64 [==============================] - 1s 23ms/step - loss: 0.0381 - soft_acc: 0.9063 - val_loss: 0.0530 - val_soft_acc: 0.8907\n",
      "Epoch 49/100\n",
      "64/64 [==============================] - 1s 23ms/step - loss: 0.0374 - soft_acc: 0.9070 - val_loss: 0.0527 - val_soft_acc: 0.8904\n",
      "Epoch 50/100\n",
      "64/64 [==============================] - 1s 23ms/step - loss: 0.0384 - soft_acc: 0.9058 - val_loss: 0.0526 - val_soft_acc: 0.8909\n",
      "Epoch 51/100\n",
      "64/64 [==============================] - 1s 17ms/step - loss: 0.0368 - soft_acc: 0.9084 - val_loss: 0.0538 - val_soft_acc: 0.8876\n",
      "Epoch 52/100\n",
      "64/64 [==============================] - 1s 17ms/step - loss: 0.0380 - soft_acc: 0.9071 - val_loss: 0.0524 - val_soft_acc: 0.8896\n",
      "Epoch 53/100\n",
      "64/64 [==============================] - 1s 16ms/step - loss: 0.0375 - soft_acc: 0.9082 - val_loss: 0.0527 - val_soft_acc: 0.8887\n",
      "Epoch 54/100\n",
      "64/64 [==============================] - 1s 16ms/step - loss: 0.0370 - soft_acc: 0.9074 - val_loss: 0.0543 - val_soft_acc: 0.8886\n",
      "Epoch 55/100\n",
      "64/64 [==============================] - 1s 23ms/step - loss: 0.0370 - soft_acc: 0.9084 - val_loss: 0.0540 - val_soft_acc: 0.8899\n",
      "Epoch 56/100\n",
      "64/64 [==============================] - 2s 32ms/step - loss: 0.0368 - soft_acc: 0.9088 - val_loss: 0.0541 - val_soft_acc: 0.8884\n",
      "Epoch 57/100\n",
      "64/64 [==============================] - 1s 22ms/step - loss: 0.0367 - soft_acc: 0.9081 - val_loss: 0.0536 - val_soft_acc: 0.8895\n",
      "Epoch 58/100\n",
      "64/64 [==============================] - 2s 26ms/step - loss: 0.0364 - soft_acc: 0.9087 - val_loss: 0.0546 - val_soft_acc: 0.8886\n",
      "Epoch 59/100\n",
      "64/64 [==============================] - 1s 20ms/step - loss: 0.0364 - soft_acc: 0.9090 - val_loss: 0.0538 - val_soft_acc: 0.8870\n",
      "Epoch 60/100\n",
      "64/64 [==============================] - 1s 20ms/step - loss: 0.0360 - soft_acc: 0.9099 - val_loss: 0.0544 - val_soft_acc: 0.8886\n",
      "Epoch 61/100\n",
      "64/64 [==============================] - 2s 29ms/step - loss: 0.0365 - soft_acc: 0.9093 - val_loss: 0.0537 - val_soft_acc: 0.8876\n",
      "Epoch 62/100\n",
      "64/64 [==============================] - 1s 22ms/step - loss: 0.0358 - soft_acc: 0.9095 - val_loss: 0.0538 - val_soft_acc: 0.8907\n",
      "Epoch 63/100\n",
      "64/64 [==============================] - 1s 20ms/step - loss: 0.0364 - soft_acc: 0.9086 - val_loss: 0.0538 - val_soft_acc: 0.8903\n",
      "Epoch 64/100\n",
      "64/64 [==============================] - 2s 34ms/step - loss: 0.0357 - soft_acc: 0.9098 - val_loss: 0.0546 - val_soft_acc: 0.8892\n",
      "Epoch 65/100\n",
      "64/64 [==============================] - 2s 29ms/step - loss: 0.0360 - soft_acc: 0.9110 - val_loss: 0.0555 - val_soft_acc: 0.8900\n",
      "Epoch 66/100\n",
      "64/64 [==============================] - 1s 20ms/step - loss: 0.0360 - soft_acc: 0.9090 - val_loss: 0.0541 - val_soft_acc: 0.8888\n",
      "Epoch 67/100\n",
      "64/64 [==============================] - 2s 26ms/step - loss: 0.0355 - soft_acc: 0.9108 - val_loss: 0.0545 - val_soft_acc: 0.8863\n",
      "Epoch 68/100\n",
      "64/64 [==============================] - 1s 20ms/step - loss: 0.0352 - soft_acc: 0.9107 - val_loss: 0.0541 - val_soft_acc: 0.8872\n",
      "Epoch 69/100\n",
      "64/64 [==============================] - 2s 25ms/step - loss: 0.0348 - soft_acc: 0.9114 - val_loss: 0.0551 - val_soft_acc: 0.8872\n",
      "Epoch 70/100\n",
      "64/64 [==============================] - 2s 25ms/step - loss: 0.0355 - soft_acc: 0.9110 - val_loss: 0.0583 - val_soft_acc: 0.8804\n",
      "Epoch 71/100\n",
      "64/64 [==============================] - 2s 28ms/step - loss: 0.0349 - soft_acc: 0.9106 - val_loss: 0.0554 - val_soft_acc: 0.8879\n",
      "Epoch 72/100\n",
      "64/64 [==============================] - 2s 32ms/step - loss: 0.0344 - soft_acc: 0.9116 - val_loss: 0.0551 - val_soft_acc: 0.8868\n",
      "Epoch 73/100\n",
      "64/64 [==============================] - 1s 23ms/step - loss: 0.0347 - soft_acc: 0.9112 - val_loss: 0.0558 - val_soft_acc: 0.8849\n",
      "Epoch 74/100\n",
      "64/64 [==============================] - 1s 22ms/step - loss: 0.0337 - soft_acc: 0.9120 - val_loss: 0.0566 - val_soft_acc: 0.8859\n",
      "Epoch 75/100\n",
      "64/64 [==============================] - 1s 22ms/step - loss: 0.0347 - soft_acc: 0.9112 - val_loss: 0.0559 - val_soft_acc: 0.8851\n",
      "Epoch 76/100\n",
      "64/64 [==============================] - 2s 24ms/step - loss: 0.0342 - soft_acc: 0.9119 - val_loss: 0.0567 - val_soft_acc: 0.8850\n",
      "Epoch 77/100\n",
      "64/64 [==============================] - 1s 23ms/step - loss: 0.0336 - soft_acc: 0.9129 - val_loss: 0.0555 - val_soft_acc: 0.8887\n",
      "Epoch 78/100\n",
      "64/64 [==============================] - 2s 35ms/step - loss: 0.0336 - soft_acc: 0.9132 - val_loss: 0.0568 - val_soft_acc: 0.8865\n",
      "Epoch 79/100\n",
      "64/64 [==============================] - 2s 35ms/step - loss: 0.0335 - soft_acc: 0.9132 - val_loss: 0.0568 - val_soft_acc: 0.8856\n",
      "Epoch 80/100\n",
      "64/64 [==============================] - 2s 27ms/step - loss: 0.0339 - soft_acc: 0.9137 - val_loss: 0.0562 - val_soft_acc: 0.8857\n",
      "Epoch 81/100\n",
      "64/64 [==============================] - 2s 27ms/step - loss: 0.0332 - soft_acc: 0.9132 - val_loss: 0.0563 - val_soft_acc: 0.8864\n",
      "Epoch 82/100\n",
      "64/64 [==============================] - 2s 27ms/step - loss: 0.0336 - soft_acc: 0.9124 - val_loss: 0.0556 - val_soft_acc: 0.8878\n",
      "Epoch 83/100\n",
      "64/64 [==============================] - 2s 24ms/step - loss: 0.0328 - soft_acc: 0.9148 - val_loss: 0.0563 - val_soft_acc: 0.8864\n",
      "Epoch 84/100\n",
      "64/64 [==============================] - 2s 24ms/step - loss: 0.0326 - soft_acc: 0.9150 - val_loss: 0.0558 - val_soft_acc: 0.8853\n",
      "Epoch 85/100\n",
      "64/64 [==============================] - 2s 26ms/step - loss: 0.0325 - soft_acc: 0.9149 - val_loss: 0.0567 - val_soft_acc: 0.8867\n",
      "Epoch 86/100\n",
      "64/64 [==============================] - 1s 23ms/step - loss: 0.0321 - soft_acc: 0.9148 - val_loss: 0.0585 - val_soft_acc: 0.8824\n",
      "Epoch 87/100\n",
      "64/64 [==============================] - 1s 22ms/step - loss: 0.0321 - soft_acc: 0.9151 - val_loss: 0.0567 - val_soft_acc: 0.8858\n",
      "Epoch 88/100\n",
      "64/64 [==============================] - 2s 25ms/step - loss: 0.0325 - soft_acc: 0.9156 - val_loss: 0.0574 - val_soft_acc: 0.8834\n",
      "Epoch 89/100\n",
      "64/64 [==============================] - 2s 25ms/step - loss: 0.0327 - soft_acc: 0.9145 - val_loss: 0.0579 - val_soft_acc: 0.8846\n",
      "Epoch 90/100\n",
      "64/64 [==============================] - 2s 25ms/step - loss: 0.0317 - soft_acc: 0.9151 - val_loss: 0.0589 - val_soft_acc: 0.8821\n",
      "Epoch 91/100\n",
      "64/64 [==============================] - 2s 24ms/step - loss: 0.0322 - soft_acc: 0.9142 - val_loss: 0.0580 - val_soft_acc: 0.8832\n",
      "Epoch 92/100\n",
      "64/64 [==============================] - 2s 24ms/step - loss: 0.0318 - soft_acc: 0.9157 - val_loss: 0.0569 - val_soft_acc: 0.8847\n",
      "Epoch 93/100\n",
      "64/64 [==============================] - 2s 25ms/step - loss: 0.0309 - soft_acc: 0.9169 - val_loss: 0.0573 - val_soft_acc: 0.8853\n",
      "Epoch 94/100\n",
      "64/64 [==============================] - 1s 22ms/step - loss: 0.0320 - soft_acc: 0.9153 - val_loss: 0.0573 - val_soft_acc: 0.8851\n",
      "Epoch 95/100\n",
      "64/64 [==============================] - 2s 27ms/step - loss: 0.0310 - soft_acc: 0.9174 - val_loss: 0.0574 - val_soft_acc: 0.8826\n",
      "Epoch 96/100\n",
      "64/64 [==============================] - 2s 28ms/step - loss: 0.0311 - soft_acc: 0.9160 - val_loss: 0.0569 - val_soft_acc: 0.8853\n",
      "Epoch 97/100\n",
      "64/64 [==============================] - 2s 24ms/step - loss: 0.0309 - soft_acc: 0.9159 - val_loss: 0.0578 - val_soft_acc: 0.8851\n",
      "Epoch 98/100\n",
      "64/64 [==============================] - 2s 28ms/step - loss: 0.0312 - soft_acc: 0.9168 - val_loss: 0.0585 - val_soft_acc: 0.8838\n",
      "Epoch 99/100\n",
      "64/64 [==============================] - 2s 26ms/step - loss: 0.0308 - soft_acc: 0.9170 - val_loss: 0.0597 - val_soft_acc: 0.8829\n",
      "Epoch 100/100\n",
      "64/64 [==============================] - 1s 22ms/step - loss: 0.0303 - soft_acc: 0.9187 - val_loss: 0.0584 - val_soft_acc: 0.8826\n"
     ]
    }
   ],
   "source": [
    "model = Model()\n",
    "history = model.fit(X_train, y_train, validation_split=0.2, shuffle=True,\n",
    "                         validation_data=(X_test,y_test), \n",
    "                         epochs=100, batch_size=1000)"
   ]
  },
  {
   "cell_type": "code",
   "execution_count": 634,
   "id": "2476f8f2",
   "metadata": {},
   "outputs": [
    {
     "data": {
      "image/png": "[encoded data removed]",
      "text/plain": [
       "<Figure size 936x288 with 2 Axes>"
      ]
     },
     "metadata": {
      "needs_background": "light"
     },
     "output_type": "display_data"
    }
   ],
   "source": [
    "%matplotlib inline\n",
    "import matplotlib.pyplot as plt\n",
    "#import seaborn as sns\n",
    "\n",
    "def plots(acc, val_acc, loss, val_loss):\n",
    "    fig, (ax1, ax2) = plt.subplots(ncols=2, sharey=False)\n",
    "\n",
    "    # plot accuracy\n",
    "    ax1.plot(acc, label='Training')\n",
    "    if val_acc is not None:\n",
    "        ax1.plot(val_acc, label='Validation')\n",
    "\n",
    "    ax1.set_xlabel('Epoch')\n",
    "    ax1.set_title('Model Accuracy')\n",
    "    ax1.legend(loc='upper left')\n",
    "    ax1.set_ylim([0,1])\n",
    "\n",
    "    # plot loss\n",
    "    ax2.plot(loss, label='Training')\n",
    "    if val_loss is not None:\n",
    "        ax2.plot(val_loss, label='Validation')\n",
    "\n",
    "    ax2.set_xlabel('Epoch')\n",
    "    ax2.set_title('Model Loss')\n",
    "    ax2.legend(loc='upper right')\n",
    "    ax2.set_ylim([0,1])\n",
    "\n",
    "    plt.show()\n",
    "\n",
    "plt.rcParams[\"figure.figsize\"] = (13,4)\n",
    "plots(history.history[\"soft_acc\"],history.history['val_soft_acc'],\n",
    "      history.history[\"loss\"],history.history['val_loss'])"
   ]
  },
  {
   "cell_type": "code",
   "execution_count": null,
   "id": "a8f5cc5e",
   "metadata": {},
   "outputs": [],
   "source": []
  }
 ],
 "metadata": {
  "kernelspec": {
   "display_name": "Python 3",
   "language": "python",
   "name": "python3"
  },
  "language_info": {
   "codemirror_mode": {
    "name": "ipython",
    "version": 3
   },
   "file_extension": ".py",
   "mimetype": "text/x-python",
   "name": "python",
   "nbconvert_exporter": "python",
   "pygments_lexer": "ipython3",
   "version": "3.7.0"
  }
 },
 "nbformat": 4,
 "nbformat_minor": 5
}
