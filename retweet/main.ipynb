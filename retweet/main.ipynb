{
 "cells": [
  {
   "cell_type": "code",
   "execution_count": 1,
   "id": "9ef1bbf1",
   "metadata": {},
   "outputs": [],
   "source": [
    "import re\n",
    "from datetime import datetime\n",
    "from pyspark.sql.functions import monotonically_increasing_id, row_number # for join\n",
    "from pyspark.sql.window import Window # join\n",
    "\n",
    "from pyspark.sql import SparkSession\n",
    "\n",
    "spark = SparkSession.builder \\\n",
    "    .master('local[*]') \\\n",
    "    .config(\"spark.driver.memory\", \"15g\") \\\n",
    "    .appName('assignment') \\\n",
    "    .getOrCreate()"
   ]
  },
  {
   "cell_type": "code",
   "execution_count": 2,
   "id": "036a07e7",
   "metadata": {},
   "outputs": [],
   "source": [
    "x_train = spark.read.option(\"sep\", \"\\t\").csv(\"train.data\")\n",
    "y_train = spark.read.csv(\"train.solution\") "
   ]
  },
  {
   "cell_type": "code",
   "execution_count": 3,
   "id": "335a9e15",
   "metadata": {},
   "outputs": [
    {
     "name": "stdout",
     "output_type": "stream",
     "text": [
      "0:00:00.301393\n"
     ]
    }
   ],
   "source": [
    "now = datetime.now()\n",
    "x_train=x_train.withColumn('row_index', row_number().over(Window.orderBy(monotonically_increasing_id())))\n",
    "y_train=y_train.withColumn('row_index', row_number().over(Window.orderBy(monotonically_increasing_id())))\n",
    "dataset = x_train.join(y_train,'row_index').drop(\"row_index\")\n",
    "print(datetime.now() - now)"
   ]
  },
  {
   "cell_type": "markdown",
   "id": "7a7e27b7",
   "metadata": {},
   "source": [
    "## There is partition error, so I tried to use:\n",
    "\n",
    "x_train.rdd.getNumPartitions()\n",
    "\n",
    "x_train = x_train.repartition(22)\n",
    "\n",
    "y_train = x_train.repartition(8)\n",
    "\n",
    "dataset = dataset.repartition(30)\n",
    "\n",
    "\n",
    "## However, it doesn't work, so limit row"
   ]
  },
  {
   "cell_type": "code",
   "execution_count": 4,
   "id": "18493353",
   "metadata": {},
   "outputs": [
    {
     "name": "stdout",
     "output_type": "stream",
     "text": [
      "0:00:00.004851\n"
     ]
    }
   ],
   "source": [
    "now = datetime.now()\n",
    "dataset = dataset.limit(100000)\n",
    "#dataset.show(5)\n",
    "print(datetime.now() - now)"
   ]
  },
  {
   "cell_type": "code",
   "execution_count": 5,
   "id": "17fa39e4",
   "metadata": {},
   "outputs": [
    {
     "name": "stdout",
     "output_type": "stream",
     "text": [
      "0:07:54.762080\n"
     ]
    }
   ],
   "source": [
    "now = datetime.now()\n",
    "dataset = dataset.toPandas()\n",
    "dataset.to_csv('dataset.csv', index=False, header=False)\n",
    "print(datetime.now() - now)"
   ]
  },
  {
   "cell_type": "markdown",
   "id": "5b740a15",
   "metadata": {},
   "source": [
    "## Load small dataset"
   ]
  },
  {
   "cell_type": "code",
   "execution_count": 6,
   "id": "84c6c311",
   "metadata": {},
   "outputs": [],
   "source": [
    "dataset = spark.read.csv('dataset.csv')"
   ]
  },
  {
   "cell_type": "code",
   "execution_count": 7,
   "id": "988d4442",
   "metadata": {},
   "outputs": [],
   "source": [
    "feature = open(\"feature.name\",\"r\", encoding='utf-8').read()\n",
    "feature = re.sub('[!@#$]', '', feature)\n",
    "col_name = feature.split(\"\\t\")\n",
    "col_name.append(\"retweets\")"
   ]
  },
  {
   "cell_type": "code",
   "execution_count": 8,
   "id": "43324c84",
   "metadata": {},
   "outputs": [
    {
     "name": "stdout",
     "output_type": "stream",
     "text": [
      "root\n",
      " |-- tweet_id: string (nullable = true)\n",
      " |-- username: string (nullable = true)\n",
      " |-- timestamp: string (nullable = true)\n",
      " |-- followers: string (nullable = true)\n",
      " |-- friends: string (nullable = true)\n",
      " |-- favorites: string (nullable = true)\n",
      " |-- entities: string (nullable = true)\n",
      " |-- sentiment: string (nullable = true)\n",
      " |-- mentions: string (nullable = true)\n",
      " |-- hashtags: string (nullable = true)\n",
      " |-- urls: string (nullable = true)\n",
      " |-- retweets: string (nullable = true)\n",
      "\n"
     ]
    }
   ],
   "source": [
    "dataset = dataset.toDF(*col_name)\n",
    "dataset.printSchema()"
   ]
  },
  {
   "cell_type": "code",
   "execution_count": null,
   "id": "75c567c0",
   "metadata": {},
   "outputs": [],
   "source": []
  },
  {
   "cell_type": "markdown",
   "id": "655436c0",
   "metadata": {},
   "source": [
    "## Cleaning"
   ]
  },
  {
   "cell_type": "code",
   "execution_count": 9,
   "id": "22f2fed3",
   "metadata": {
    "scrolled": true
   },
   "outputs": [],
   "source": [
    "from clean import Clean"
   ]
  },
  {
   "cell_type": "code",
   "execution_count": 10,
   "id": "6323d4a3",
   "metadata": {},
   "outputs": [],
   "source": [
    "clean = Clean()"
   ]
  },
  {
   "cell_type": "code",
   "execution_count": 11,
   "id": "9d2d71da",
   "metadata": {
    "scrolled": true
   },
   "outputs": [
    {
     "name": "stdout",
     "output_type": "stream",
     "text": [
      "root\n",
      " |-- followers: double (nullable = true)\n",
      " |-- friends: double (nullable = true)\n",
      " |-- favorites: double (nullable = true)\n",
      " |-- posi_sen: float (nullable = true)\n",
      " |-- nega_sen: float (nullable = true)\n",
      " |-- count_ent_an: float (nullable = true)\n",
      " |-- ent_score: float (nullable = true)\n",
      " |-- days: string (nullable = true)\n",
      " |-- weeks: double (nullable = false)\n",
      " |-- hours: integer (nullable = true)\n",
      " |-- q_hours: float (nullable = true)\n",
      " |-- retweets: double (nullable = true)\n",
      "\n",
      "None\n",
      "0:00:12.089981\n"
     ]
    }
   ],
   "source": [
    "dataset = clean.cleaning(dataset)"
   ]
  },
  {
   "cell_type": "code",
   "execution_count": 13,
   "id": "eba06e1c",
   "metadata": {},
   "outputs": [
    {
     "name": "stdout",
     "output_type": "stream",
     "text": [
      "+------------------+------------------+-------------------+--------+--------+------------+----------+----+-----+-----+-------+-------------------+\n",
      "|         followers|           friends|          favorites|posi_sen|nega_sen|count_ent_an| ent_score|days|weeks|hours|q_hours|           retweets|\n",
      "+------------------+------------------+-------------------+--------+--------+------------+----------+----+-----+-----+-------+-------------------+\n",
      "| 2.791690649020118| 2.886490725172482|                0.0|     2.0|    -1.0|         0.0|       0.0| Tue|  0.0|    0|    1.0|                0.0|\n",
      "| 4.560683591907453| 4.286546283516697| 1.2304489213782739|     1.0|    -4.0|         2.0|-2.8500476| Tue|  0.0|    0|    1.0| 1.1139433523068367|\n",
      "|3.7005306569785916| 3.286231854028553|                0.0|     2.0|    -1.0|         3.0|-2.7635467| Tue|  0.0|    0|    1.0|                0.0|\n",
      "| 3.346157302232008|2.9872192299080047|                0.0|     2.0|    -1.0|         2.0|-2.4632268| Tue|  0.0|    0|    1.0|                0.0|\n",
      "|3.9546765869186435| 3.693990610460777| 1.9493900066449128|     2.0|    -1.0|         2.0| -2.622788| Tue|  0.0|    0|    1.0|  1.414973347970818|\n",
      "|2.4533183400470375|2.9708116108725178|                0.0|     3.0|    -2.0|         1.0|-0.9113025| Tue|  0.0|    0|    1.0|                0.0|\n",
      "|3.5569052690554477|3.5472823079633033| 1.1139433523068367|     3.0|    -1.0|         0.0|       0.0| Tue|  0.0|    0|    1.0| 0.6989700043360189|\n",
      "|3.7741518589547103|1.6720978579357175| 0.7781512503836436|     3.0|    -1.0|         2.0|-1.4652336| Tue|  0.0|    0|    1.0|                0.0|\n",
      "|5.1946197807773835| 3.586362223307866| 2.1172712956557644|     1.0|    -1.0|         2.0|-1.1954017| Tue|  0.0|    0|    1.0| 1.7481880270062005|\n",
      "| 4.431588895527995| 4.388953316589278|  1.568201724066995|     2.0|    -1.0|         2.0|-2.0795727| Tue|  0.0|    0|    1.0|  1.591064607026499|\n",
      "|  2.03342375548695|2.6074550232146687|                0.0|     1.0|    -2.0|         0.0|       0.0| Tue|  0.0|    0|    1.0|                0.0|\n",
      "| 5.374757508244298| 2.747411807886423|0.47712125471966244|     2.0|    -3.0|         1.0|-1.7622465| Tue|  0.0|    1|    1.0| 0.3010299956639812|\n",
      "|3.2195845262142546|1.3617278360175928| 0.6020599913279624|     1.0|    -1.0|         0.0|       0.0| Tue|  0.0|    1|    1.0| 0.3010299956639812|\n",
      "| 2.821513528404773|   2.2405492482826|                0.0|     2.0|    -1.0|         1.0|-2.7306516| Tue|  0.0|    1|    1.0|                0.0|\n",
      "|2.4638929889859074| 2.630427875025024|                0.0|     1.0|    -1.0|         0.0|       0.0| Tue|  0.0|    1|    1.0|                0.0|\n",
      "| 2.690196080028514|  2.72916478969277|                0.0|     1.0|    -1.0|         0.0|       0.0| Tue|  0.0|    1|    1.0|                0.0|\n",
      "| 7.153247717028945|1.6334684555795864|                1.0|     1.0|    -1.0|         2.0|-2.0951078| Tue|  0.0|    1|    1.0|0.47712125471966244|\n",
      "| 4.247678729570658|  3.65571454961871|                0.0|     1.0|    -1.0|         4.0|-1.9826692| Tue|  0.0|    1|    1.0|                0.0|\n",
      "| 4.597344099017222|4.5741933740763265|  2.146128035678238|     2.0|    -1.0|         2.0|-2.2427773| Tue|  0.0|    1|    1.0| 2.1335389083702174|\n",
      "| 2.100370545117563| 2.658964842664435|                0.0|     2.0|    -1.0|         0.0|       0.0| Tue|  0.0|    1|    1.0|                0.0|\n",
      "+------------------+------------------+-------------------+--------+--------+------------+----------+----+-----+-----+-------+-------------------+\n",
      "only showing top 20 rows\n",
      "\n"
     ]
    }
   ],
   "source": [
    "dataset.show()"
   ]
  },
  {
   "cell_type": "code",
   "execution_count": null,
   "id": "fa60f4e7",
   "metadata": {},
   "outputs": [],
   "source": []
  },
  {
   "cell_type": "markdown",
   "id": "13f91947",
   "metadata": {},
   "source": [
    "## Training"
   ]
  },
  {
   "cell_type": "code",
   "execution_count": 16,
   "id": "90bdefb2",
   "metadata": {},
   "outputs": [],
   "source": [
    "from pyspark.ml.feature import VectorAssembler"
   ]
  },
  {
   "cell_type": "code",
   "execution_count": 17,
   "id": "28a58a2b",
   "metadata": {},
   "outputs": [],
   "source": [
    "fea = VectorAssembler().setInputCols(['followers',\"friends\",\"favorites\",\"posi_sen\",\n",
    "                                            \"nega_sen\",\"count_ent_an\",\"ent_score\",\"weeks\",\"q_hours\"])\\\n",
    "        .setOutputCol(\"features\")\n",
    "data = fea.transform(dataset)"
   ]
  },
  {
   "cell_type": "code",
   "execution_count": null,
   "id": "3ce8f4be",
   "metadata": {},
   "outputs": [],
   "source": []
  },
  {
   "cell_type": "markdown",
   "id": "f393fdb2",
   "metadata": {},
   "source": [
    "## Linear Regression"
   ]
  },
  {
   "cell_type": "code",
   "execution_count": 18,
   "id": "f19ffa63",
   "metadata": {},
   "outputs": [],
   "source": [
    "from pyspark.ml.regression import LinearRegression"
   ]
  },
  {
   "cell_type": "code",
   "execution_count": 19,
   "id": "9bc37310",
   "metadata": {},
   "outputs": [],
   "source": [
    "train, test = data.randomSplit(weights=[0.8,0.2], seed=42)"
   ]
  },
  {
   "cell_type": "code",
   "execution_count": 20,
   "id": "000d4155",
   "metadata": {},
   "outputs": [],
   "source": [
    "lr = LinearRegression(featuresCol=\"features\", labelCol='retweets')"
   ]
  },
  {
   "cell_type": "code",
   "execution_count": 21,
   "id": "bddee818",
   "metadata": {},
   "outputs": [
    {
     "name": "stdout",
     "output_type": "stream",
     "text": [
      "0:00:50.648168\n"
     ]
    }
   ],
   "source": [
    "now = datetime.now()\n",
    "lrmodel = lr.fit(train)\n",
    "print(datetime.now()-now)"
   ]
  },
  {
   "cell_type": "code",
   "execution_count": 22,
   "id": "75a05ef2",
   "metadata": {},
   "outputs": [
    {
     "name": "stdout",
     "output_type": "stream",
     "text": [
      "+--------------------+--------+--------------------+\n",
      "|            features|retweets|          prediction|\n",
      "+--------------------+--------+--------------------+\n",
      "|[0.0,0.0,0.0,1.0,...|     0.0|-0.00963023395065...|\n",
      "|(9,[3,4,7,8],[1.0...|     0.0|-0.03684810167350511|\n",
      "|(9,[3,4,8],[1.0,-...|     0.0|-0.03215844047042...|\n",
      "|(9,[3,4,8],[1.0,-...|     0.0|-0.03831059288964...|\n",
      "|[0.0,0.0,0.0,1.0,...|     0.0| 0.05147787570134586|\n",
      "|[0.0,0.0,0.0,1.0,...|     0.0|-0.03501733933063832|\n",
      "|[0.0,0.0,0.0,1.0,...|     0.0|0.015612736874335745|\n",
      "|[0.0,0.0,0.0,1.0,...|     0.0|0.008029673364278296|\n",
      "|[0.0,0.0,0.0,2.0,...|     0.0|-0.01603075050056...|\n",
      "|[0.0,0.0,0.0,2.0,...|     0.0|-0.02310754013260...|\n",
      "+--------------------+--------+--------------------+\n",
      "only showing top 10 rows\n",
      "\n"
     ]
    }
   ],
   "source": [
    "pred = lrmodel.transform(test)\n",
    "pred.select(\"features\",\"retweets\",\"prediction\").show(10)"
   ]
  },
  {
   "cell_type": "markdown",
   "id": "7d328719",
   "metadata": {},
   "source": [
    "## Evaluate"
   ]
  },
  {
   "cell_type": "code",
   "execution_count": 23,
   "id": "819a78a3",
   "metadata": {},
   "outputs": [],
   "source": [
    "from pyspark.ml.evaluation import RegressionEvaluator"
   ]
  },
  {
   "cell_type": "code",
   "execution_count": 24,
   "id": "b727f9aa",
   "metadata": {},
   "outputs": [],
   "source": [
    "regressionEvaluator = RegressionEvaluator(predictionCol=\"prediction\", labelCol=\"retweets\",metricName='rmse')"
   ]
  },
  {
   "cell_type": "code",
   "execution_count": 25,
   "id": "9c718baa",
   "metadata": {},
   "outputs": [
    {
     "name": "stdout",
     "output_type": "stream",
     "text": [
      "RMSE is 0.2\n"
     ]
    }
   ],
   "source": [
    "rmse = regressionEvaluator.evaluate(pred)\n",
    "print(f\"RMSE is {rmse:.1f}\")"
   ]
  },
  {
   "cell_type": "code",
   "execution_count": 26,
   "id": "ec668f97",
   "metadata": {},
   "outputs": [
    {
     "name": "stdout",
     "output_type": "stream",
     "text": [
      "R2 is 0.9087026295443564\n"
     ]
    }
   ],
   "source": [
    "r2 = regressionEvaluator.setMetricName('r2').evaluate(pred)\n",
    "print(f\"R2 is {r2}\")"
   ]
  },
  {
   "cell_type": "code",
   "execution_count": null,
   "id": "f1f4781f",
   "metadata": {},
   "outputs": [],
   "source": []
  },
  {
   "cell_type": "markdown",
   "id": "6c8d3505",
   "metadata": {},
   "source": [
    "## Random Forest"
   ]
  },
  {
   "cell_type": "code",
   "execution_count": 27,
   "id": "97430467",
   "metadata": {},
   "outputs": [],
   "source": [
    "from pyspark.ml.regression import RandomForestRegressor"
   ]
  },
  {
   "cell_type": "code",
   "execution_count": 28,
   "id": "aef91d79",
   "metadata": {},
   "outputs": [],
   "source": [
    "train, test = data.randomSplit(weights=[0.8,0.2], seed=42)"
   ]
  },
  {
   "cell_type": "code",
   "execution_count": 29,
   "id": "5f226f01",
   "metadata": {},
   "outputs": [],
   "source": [
    "rf = RandomForestRegressor(labelCol=\"retweets\", maxBins=100, seed=42)"
   ]
  },
  {
   "cell_type": "code",
   "execution_count": 30,
   "id": "4c93f972",
   "metadata": {},
   "outputs": [],
   "source": [
    "rfmodel = rf.fit(train)"
   ]
  },
  {
   "cell_type": "code",
   "execution_count": 31,
   "id": "c7112d47",
   "metadata": {},
   "outputs": [],
   "source": [
    "pred = rfmodel.transform(test)"
   ]
  },
  {
   "cell_type": "markdown",
   "id": "a2257e96",
   "metadata": {},
   "source": [
    "## Evaluate"
   ]
  },
  {
   "cell_type": "code",
   "execution_count": 32,
   "id": "708143a8",
   "metadata": {},
   "outputs": [],
   "source": [
    "regressionEvaluator = RegressionEvaluator(predictionCol=\"prediction\", labelCol=\"retweets\",metricName='rmse')"
   ]
  },
  {
   "cell_type": "code",
   "execution_count": 33,
   "id": "d9a4095d",
   "metadata": {},
   "outputs": [
    {
     "name": "stdout",
     "output_type": "stream",
     "text": [
      "RMSE is 0.3\n"
     ]
    }
   ],
   "source": [
    "rmse = regressionEvaluator.evaluate(pred)\n",
    "print(f\"RMSE is {rmse:.1f}\")"
   ]
  },
  {
   "cell_type": "code",
   "execution_count": 34,
   "id": "3e09d311",
   "metadata": {},
   "outputs": [
    {
     "name": "stdout",
     "output_type": "stream",
     "text": [
      "R2 is 0.8543836339798685\n"
     ]
    }
   ],
   "source": [
    "r2 = regressionEvaluator.setMetricName('r2').evaluate(pred)\n",
    "print(f\"R2 is {r2}\")"
   ]
  },
  {
   "cell_type": "code",
   "execution_count": null,
   "id": "c8a9356d",
   "metadata": {},
   "outputs": [],
   "source": []
  },
  {
   "cell_type": "markdown",
   "id": "4a3f1a18",
   "metadata": {},
   "source": [
    "## Cross Validation"
   ]
  },
  {
   "cell_type": "code",
   "execution_count": 35,
   "id": "f23bc219",
   "metadata": {},
   "outputs": [],
   "source": [
    "from pyspark.ml.tuning import ParamGridBuilder\n",
    "paramGrid = (ParamGridBuilder()\n",
    "    .addGrid(rf.maxDepth, [2, 4, 6])\n",
    "    .addGrid(rf.numTrees, [10, 100])\n",
    "    .build())\n",
    "evaluator = RegressionEvaluator(labelCol=\"retweets\",\n",
    "    predictionCol=\"prediction\",\n",
    "    metricName=\"r2\")"
   ]
  },
  {
   "cell_type": "code",
   "execution_count": 36,
   "id": "59137493",
   "metadata": {},
   "outputs": [],
   "source": [
    "from pyspark.ml.tuning import CrossValidator\n",
    "cv = CrossValidator(estimator=rf,\n",
    " evaluator=evaluator,\n",
    " estimatorParamMaps=paramGrid,\n",
    " numFolds=3,\n",
    " seed=42)\n",
    "cvModel = cv.fit(test)"
   ]
  },
  {
   "cell_type": "code",
   "execution_count": 37,
   "id": "a9585b38",
   "metadata": {},
   "outputs": [
    {
     "data": {
      "text/plain": [
       "[({Param(parent='RandomForestRegressor_081a5691a33c', name='maxDepth', doc='Maximum depth of the tree. (>= 0) E.g., depth 0 means 1 leaf node; depth 1 means 1 internal node + 2 leaf nodes.'): 2,\n",
       "   Param(parent='RandomForestRegressor_081a5691a33c', name='numTrees', doc='Number of trees to train (>= 1).'): 10},\n",
       "  0.7293514244130832),\n",
       " ({Param(parent='RandomForestRegressor_081a5691a33c', name='maxDepth', doc='Maximum depth of the tree. (>= 0) E.g., depth 0 means 1 leaf node; depth 1 means 1 internal node + 2 leaf nodes.'): 2,\n",
       "   Param(parent='RandomForestRegressor_081a5691a33c', name='numTrees', doc='Number of trees to train (>= 1).'): 100},\n",
       "  0.6826560721704035),\n",
       " ({Param(parent='RandomForestRegressor_081a5691a33c', name='maxDepth', doc='Maximum depth of the tree. (>= 0) E.g., depth 0 means 1 leaf node; depth 1 means 1 internal node + 2 leaf nodes.'): 4,\n",
       "   Param(parent='RandomForestRegressor_081a5691a33c', name='numTrees', doc='Number of trees to train (>= 1).'): 10},\n",
       "  0.8258572679017577),\n",
       " ({Param(parent='RandomForestRegressor_081a5691a33c', name='maxDepth', doc='Maximum depth of the tree. (>= 0) E.g., depth 0 means 1 leaf node; depth 1 means 1 internal node + 2 leaf nodes.'): 4,\n",
       "   Param(parent='RandomForestRegressor_081a5691a33c', name='numTrees', doc='Number of trees to train (>= 1).'): 100},\n",
       "  0.8284783362593346),\n",
       " ({Param(parent='RandomForestRegressor_081a5691a33c', name='maxDepth', doc='Maximum depth of the tree. (>= 0) E.g., depth 0 means 1 leaf node; depth 1 means 1 internal node + 2 leaf nodes.'): 6,\n",
       "   Param(parent='RandomForestRegressor_081a5691a33c', name='numTrees', doc='Number of trees to train (>= 1).'): 10},\n",
       "  0.8703811701944975),\n",
       " ({Param(parent='RandomForestRegressor_081a5691a33c', name='maxDepth', doc='Maximum depth of the tree. (>= 0) E.g., depth 0 means 1 leaf node; depth 1 means 1 internal node + 2 leaf nodes.'): 6,\n",
       "   Param(parent='RandomForestRegressor_081a5691a33c', name='numTrees', doc='Number of trees to train (>= 1).'): 100},\n",
       "  0.8802035743929438)]"
      ]
     },
     "execution_count": 37,
     "metadata": {},
     "output_type": "execute_result"
    }
   ],
   "source": [
    "list(zip(cvModel.getEstimatorParamMaps(), cvModel.avgMetrics))"
   ]
  },
  {
   "cell_type": "code",
   "execution_count": null,
   "id": "474173e0",
   "metadata": {},
   "outputs": [],
   "source": []
  },
  {
   "cell_type": "markdown",
   "id": "3b96ae6f",
   "metadata": {},
   "source": [
    "## Tensorflow"
   ]
  },
  {
   "cell_type": "code",
   "execution_count": 38,
   "id": "11c52fe1",
   "metadata": {},
   "outputs": [],
   "source": [
    "import pandas as pd\n",
    "import matplotlib.pyplot as plt\n",
    "\n",
    "from sklearn.preprocessing import StandardScaler\n",
    "from sklearn.model_selection import train_test_split\n",
    "\n",
    "from tensorflow.keras.models import Sequential\n",
    "from tensorflow.keras.layers import Dense, BatchNormalization\n",
    "import tensorflow.keras.backend as K"
   ]
  },
  {
   "cell_type": "code",
   "execution_count": 39,
   "id": "66079756",
   "metadata": {},
   "outputs": [
    {
     "name": "stdout",
     "output_type": "stream",
     "text": [
      "0:00:18.151411\n"
     ]
    }
   ],
   "source": [
    "## toPandas and save it\n",
    "now = datetime.now()\n",
    "df = dataset.toPandas()\n",
    "df.to_csv('tensor.csv', index=False)\n",
    "print(datetime.now() - now)"
   ]
  },
  {
   "cell_type": "code",
   "execution_count": 40,
   "id": "b1269ceb",
   "metadata": {
    "scrolled": false
   },
   "outputs": [
    {
     "data": {
      "text/html": [
       "<div>\n",
       "<style scoped>\n",
       "    .dataframe tbody tr th:only-of-type {\n",
       "        vertical-align: middle;\n",
       "    }\n",
       "\n",
       "    .dataframe tbody tr th {\n",
       "        vertical-align: top;\n",
       "    }\n",
       "\n",
       "    .dataframe thead th {\n",
       "        text-align: right;\n",
       "    }\n",
       "</style>\n",
       "<table border=\"1\" class=\"dataframe\">\n",
       "  <thead>\n",
       "    <tr style=\"text-align: right;\">\n",
       "      <th></th>\n",
       "      <th>followers</th>\n",
       "      <th>friends</th>\n",
       "      <th>favorites</th>\n",
       "      <th>posi_sen</th>\n",
       "      <th>nega_sen</th>\n",
       "      <th>count_ent_an</th>\n",
       "      <th>ent_score</th>\n",
       "      <th>days</th>\n",
       "      <th>weeks</th>\n",
       "      <th>hours</th>\n",
       "      <th>q_hours</th>\n",
       "      <th>retweets</th>\n",
       "    </tr>\n",
       "  </thead>\n",
       "  <tbody>\n",
       "    <tr>\n",
       "      <th>0</th>\n",
       "      <td>2.791691</td>\n",
       "      <td>2.886491</td>\n",
       "      <td>0.000000</td>\n",
       "      <td>2.0</td>\n",
       "      <td>-1.0</td>\n",
       "      <td>0.0</td>\n",
       "      <td>0.000000</td>\n",
       "      <td>Tue</td>\n",
       "      <td>0.0</td>\n",
       "      <td>0</td>\n",
       "      <td>1.0</td>\n",
       "      <td>0.000000</td>\n",
       "    </tr>\n",
       "    <tr>\n",
       "      <th>1</th>\n",
       "      <td>4.560684</td>\n",
       "      <td>4.286546</td>\n",
       "      <td>1.230449</td>\n",
       "      <td>1.0</td>\n",
       "      <td>-4.0</td>\n",
       "      <td>2.0</td>\n",
       "      <td>-2.850048</td>\n",
       "      <td>Tue</td>\n",
       "      <td>0.0</td>\n",
       "      <td>0</td>\n",
       "      <td>1.0</td>\n",
       "      <td>1.113943</td>\n",
       "    </tr>\n",
       "    <tr>\n",
       "      <th>2</th>\n",
       "      <td>3.700531</td>\n",
       "      <td>3.286232</td>\n",
       "      <td>0.000000</td>\n",
       "      <td>2.0</td>\n",
       "      <td>-1.0</td>\n",
       "      <td>3.0</td>\n",
       "      <td>-2.763547</td>\n",
       "      <td>Tue</td>\n",
       "      <td>0.0</td>\n",
       "      <td>0</td>\n",
       "      <td>1.0</td>\n",
       "      <td>0.000000</td>\n",
       "    </tr>\n",
       "    <tr>\n",
       "      <th>3</th>\n",
       "      <td>3.346157</td>\n",
       "      <td>2.987219</td>\n",
       "      <td>0.000000</td>\n",
       "      <td>2.0</td>\n",
       "      <td>-1.0</td>\n",
       "      <td>2.0</td>\n",
       "      <td>-2.463227</td>\n",
       "      <td>Tue</td>\n",
       "      <td>0.0</td>\n",
       "      <td>0</td>\n",
       "      <td>1.0</td>\n",
       "      <td>0.000000</td>\n",
       "    </tr>\n",
       "    <tr>\n",
       "      <th>4</th>\n",
       "      <td>3.954677</td>\n",
       "      <td>3.693991</td>\n",
       "      <td>1.949390</td>\n",
       "      <td>2.0</td>\n",
       "      <td>-1.0</td>\n",
       "      <td>2.0</td>\n",
       "      <td>-2.622788</td>\n",
       "      <td>Tue</td>\n",
       "      <td>0.0</td>\n",
       "      <td>0</td>\n",
       "      <td>1.0</td>\n",
       "      <td>1.414973</td>\n",
       "    </tr>\n",
       "  </tbody>\n",
       "</table>\n",
       "</div>"
      ],
      "text/plain": [
       "   followers   friends  favorites  posi_sen  nega_sen  count_ent_an  \\\n",
       "0   2.791691  2.886491   0.000000       2.0      -1.0           0.0   \n",
       "1   4.560684  4.286546   1.230449       1.0      -4.0           2.0   \n",
       "2   3.700531  3.286232   0.000000       2.0      -1.0           3.0   \n",
       "3   3.346157  2.987219   0.000000       2.0      -1.0           2.0   \n",
       "4   3.954677  3.693991   1.949390       2.0      -1.0           2.0   \n",
       "\n",
       "   ent_score days  weeks  hours  q_hours  retweets  \n",
       "0   0.000000  Tue    0.0      0      1.0  0.000000  \n",
       "1  -2.850048  Tue    0.0      0      1.0  1.113943  \n",
       "2  -2.763547  Tue    0.0      0      1.0  0.000000  \n",
       "3  -2.463227  Tue    0.0      0      1.0  0.000000  \n",
       "4  -2.622788  Tue    0.0      0      1.0  1.414973  "
      ]
     },
     "execution_count": 40,
     "metadata": {},
     "output_type": "execute_result"
    }
   ],
   "source": [
    "## read in Pandas\n",
    "df = pd.read_csv('tensor.csv')\n",
    "df.head()"
   ]
  },
  {
   "cell_type": "code",
   "execution_count": 41,
   "id": "0fdf613b",
   "metadata": {},
   "outputs": [],
   "source": [
    "del df['days'] # delete string value \n",
    "del df['hours'] # this is not usefull due to q_hours"
   ]
  },
  {
   "cell_type": "code",
   "execution_count": 42,
   "id": "e9b5666c",
   "metadata": {
    "scrolled": true
   },
   "outputs": [
    {
     "name": "stdout",
     "output_type": "stream",
     "text": [
      "<class 'pandas.core.frame.DataFrame'>\n",
      "RangeIndex: 100000 entries, 0 to 99999\n",
      "Data columns (total 10 columns):\n",
      " #   Column        Non-Null Count   Dtype  \n",
      "---  ------        --------------   -----  \n",
      " 0   followers     100000 non-null  float64\n",
      " 1   friends       100000 non-null  float64\n",
      " 2   favorites     100000 non-null  float64\n",
      " 3   posi_sen      100000 non-null  float64\n",
      " 4   nega_sen      100000 non-null  float64\n",
      " 5   count_ent_an  100000 non-null  float64\n",
      " 6   ent_score     100000 non-null  float64\n",
      " 7   weeks         100000 non-null  float64\n",
      " 8   q_hours       100000 non-null  float64\n",
      " 9   retweets      100000 non-null  float64\n",
      "dtypes: float64(10)\n",
      "memory usage: 7.6 MB\n"
     ]
    }
   ],
   "source": [
    "df.info()"
   ]
  },
  {
   "cell_type": "code",
   "execution_count": 43,
   "id": "d14150b8",
   "metadata": {},
   "outputs": [],
   "source": [
    "x = df.iloc[:, 0:-1].values.astype(float)\n",
    "y = df.iloc[:, -1].values.astype(float)"
   ]
  },
  {
   "cell_type": "code",
   "execution_count": 44,
   "id": "4aa5887b",
   "metadata": {},
   "outputs": [],
   "source": [
    "sc = StandardScaler()\n",
    "x = sc.fit_transform(x)"
   ]
  },
  {
   "cell_type": "code",
   "execution_count": 45,
   "id": "6988a0e5",
   "metadata": {},
   "outputs": [],
   "source": [
    "X_train, X_test, y_train, y_test = train_test_split(x, y, test_size = 0.2, random_state = 42)"
   ]
  },
  {
   "cell_type": "code",
   "execution_count": 46,
   "id": "169503cd",
   "metadata": {},
   "outputs": [],
   "source": [
    "# https://stackoverflow.com/questions/42665359/how-do-you-compute-accuracy-in-a-regression-model-after-rounding-predictions-to\n",
    "def soft_acc(y_true, y_pred):\n",
    "    return K.mean(K.equal(K.round(y_true), K.round(y_pred)))"
   ]
  },
  {
   "cell_type": "code",
   "execution_count": 47,
   "id": "037bbca9",
   "metadata": {},
   "outputs": [],
   "source": [
    "def Model():\n",
    "    \n",
    "    model = Sequential([\n",
    "        Dense(90, input_shape=(9,), activation=\"relu\"),\n",
    "        BatchNormalization(),\n",
    "        Dense(162, activation='relu'),\n",
    "        BatchNormalization(),\n",
    "        Dense(162, activation='relu'),\n",
    "        BatchNormalization(),\n",
    "        Dense(63, activation='relu'),\n",
    "        BatchNormalization(),\n",
    "        Dense(32, activation='relu'),\n",
    "        BatchNormalization(),\n",
    "        Dense(1)\n",
    "        \n",
    "    ])\n",
    "    \n",
    "#     model.compile(optimizer = 'Nadam', loss = 'mse', metrics = ['accuracy'])\n",
    "    model.compile(optimizer = 'adam', loss = 'mse', metrics = [soft_acc])\n",
    "    return model"
   ]
  },
  {
   "cell_type": "code",
   "execution_count": 48,
   "id": "87d5a0e0",
   "metadata": {},
   "outputs": [
    {
     "name": "stdout",
     "output_type": "stream",
     "text": [
      "Epoch 1/100\n",
      "WARNING:tensorflow:AutoGraph could not transform <function Model.make_train_function.<locals>.train_function at 0x7fcac5266378> and will run it as-is.\n",
      "Please report this to the TensorFlow team. When filing the bug, set the verbosity to 10 (on Linux, `export AUTOGRAPH_VERBOSITY=10`) and attach the full output.\n",
      "Cause: Bad argument number for Name: 4, expecting 3\n",
      "To silence this warning, decorate the function with @tf.autograph.experimental.do_not_convert\n",
      "WARNING: AutoGraph could not transform <function Model.make_train_function.<locals>.train_function at 0x7fcac5266378> and will run it as-is.\n",
      "Please report this to the TensorFlow team. When filing the bug, set the verbosity to 10 (on Linux, `export AUTOGRAPH_VERBOSITY=10`) and attach the full output.\n",
      "Cause: Bad argument number for Name: 4, expecting 3\n",
      "To silence this warning, decorate the function with @tf.autograph.experimental.do_not_convert\n",
      "63/64 [============================>.] - ETA: 0s - loss: 0.3372 - soft_acc: 0.7178WARNING:tensorflow:AutoGraph could not transform <function Model.make_test_function.<locals>.test_function at 0x7fcac4816620> and will run it as-is.\n",
      "Please report this to the TensorFlow team. When filing the bug, set the verbosity to 10 (on Linux, `export AUTOGRAPH_VERBOSITY=10`) and attach the full output.\n",
      "Cause: Bad argument number for Name: 4, expecting 3\n",
      "To silence this warning, decorate the function with @tf.autograph.experimental.do_not_convert\n",
      "WARNING: AutoGraph could not transform <function Model.make_test_function.<locals>.test_function at 0x7fcac4816620> and will run it as-is.\n",
      "Please report this to the TensorFlow team. When filing the bug, set the verbosity to 10 (on Linux, `export AUTOGRAPH_VERBOSITY=10`) and attach the full output.\n",
      "Cause: Bad argument number for Name: 4, expecting 3\n",
      "To silence this warning, decorate the function with @tf.autograph.experimental.do_not_convert\n",
      "64/64 [==============================] - 2s 24ms/step - loss: 0.3332 - soft_acc: 0.7202 - val_loss: 0.3962 - val_soft_acc: 0.7371\n",
      "Epoch 2/100\n",
      "64/64 [==============================] - 1s 23ms/step - loss: 0.0733 - soft_acc: 0.8773 - val_loss: 0.2998 - val_soft_acc: 0.7666\n",
      "Epoch 3/100\n",
      "64/64 [==============================] - 2s 24ms/step - loss: 0.0616 - soft_acc: 0.8846 - val_loss: 0.2014 - val_soft_acc: 0.7992\n",
      "Epoch 4/100\n",
      "64/64 [==============================] - 2s 24ms/step - loss: 0.0561 - soft_acc: 0.8887 - val_loss: 0.1287 - val_soft_acc: 0.8312\n",
      "Epoch 5/100\n",
      "64/64 [==============================] - 1s 23ms/step - loss: 0.0535 - soft_acc: 0.8897 - val_loss: 0.0831 - val_soft_acc: 0.8633\n",
      "Epoch 6/100\n",
      "64/64 [==============================] - 2s 24ms/step - loss: 0.0520 - soft_acc: 0.8922 - val_loss: 0.0742 - val_soft_acc: 0.8804\n",
      "Epoch 7/100\n",
      "64/64 [==============================] - 1s 22ms/step - loss: 0.0504 - soft_acc: 0.8925 - val_loss: 0.0541 - val_soft_acc: 0.8891\n",
      "Epoch 8/100\n",
      "64/64 [==============================] - 1s 22ms/step - loss: 0.0496 - soft_acc: 0.8942 - val_loss: 0.0598 - val_soft_acc: 0.8879\n",
      "Epoch 9/100\n",
      "64/64 [==============================] - 1s 23ms/step - loss: 0.0489 - soft_acc: 0.8940 - val_loss: 0.0534 - val_soft_acc: 0.8917\n",
      "Epoch 10/100\n",
      "64/64 [==============================] - 2s 25ms/step - loss: 0.0477 - soft_acc: 0.8954 - val_loss: 0.0555 - val_soft_acc: 0.8919\n",
      "Epoch 11/100\n",
      "64/64 [==============================] - 1s 23ms/step - loss: 0.0469 - soft_acc: 0.8963 - val_loss: 0.0665 - val_soft_acc: 0.8919\n",
      "Epoch 12/100\n",
      "64/64 [==============================] - 2s 26ms/step - loss: 0.0468 - soft_acc: 0.8967 - val_loss: 0.0547 - val_soft_acc: 0.8928\n",
      "Epoch 13/100\n",
      "64/64 [==============================] - 2s 24ms/step - loss: 0.0460 - soft_acc: 0.8971 - val_loss: 0.0511 - val_soft_acc: 0.8924\n",
      "Epoch 14/100\n",
      "64/64 [==============================] - 1s 22ms/step - loss: 0.0455 - soft_acc: 0.8972 - val_loss: 0.0507 - val_soft_acc: 0.8939\n",
      "Epoch 15/100\n",
      "64/64 [==============================] - 1s 23ms/step - loss: 0.0457 - soft_acc: 0.8976 - val_loss: 0.0581 - val_soft_acc: 0.8922\n",
      "Epoch 16/100\n",
      "64/64 [==============================] - 2s 24ms/step - loss: 0.0451 - soft_acc: 0.8970 - val_loss: 0.0504 - val_soft_acc: 0.8917\n",
      "Epoch 17/100\n",
      "64/64 [==============================] - 2s 25ms/step - loss: 0.0445 - soft_acc: 0.8982 - val_loss: 0.0523 - val_soft_acc: 0.8896\n",
      "Epoch 18/100\n",
      "64/64 [==============================] - 2s 27ms/step - loss: 0.0450 - soft_acc: 0.8981 - val_loss: 0.0497 - val_soft_acc: 0.8934\n",
      "Epoch 19/100\n",
      "64/64 [==============================] - 1s 23ms/step - loss: 0.0442 - soft_acc: 0.8988 - val_loss: 0.0547 - val_soft_acc: 0.8932\n",
      "Epoch 20/100\n",
      "64/64 [==============================] - 2s 24ms/step - loss: 0.0443 - soft_acc: 0.8991 - val_loss: 0.0520 - val_soft_acc: 0.8914\n",
      "Epoch 21/100\n",
      "64/64 [==============================] - 2s 24ms/step - loss: 0.0436 - soft_acc: 0.8990 - val_loss: 0.0504 - val_soft_acc: 0.8932\n",
      "Epoch 22/100\n",
      "64/64 [==============================] - 2s 24ms/step - loss: 0.0433 - soft_acc: 0.8995 - val_loss: 0.0502 - val_soft_acc: 0.8942\n",
      "Epoch 23/100\n",
      "64/64 [==============================] - 2s 24ms/step - loss: 0.0429 - soft_acc: 0.9003 - val_loss: 0.0503 - val_soft_acc: 0.8924\n",
      "Epoch 24/100\n",
      "64/64 [==============================] - 2s 24ms/step - loss: 0.0424 - soft_acc: 0.9004 - val_loss: 0.0502 - val_soft_acc: 0.8927\n",
      "Epoch 25/100\n",
      "64/64 [==============================] - 2s 25ms/step - loss: 0.0421 - soft_acc: 0.9008 - val_loss: 0.0509 - val_soft_acc: 0.8909\n",
      "Epoch 26/100\n",
      "64/64 [==============================] - 2s 27ms/step - loss: 0.0424 - soft_acc: 0.9004 - val_loss: 0.0507 - val_soft_acc: 0.8917\n",
      "Epoch 27/100\n",
      "64/64 [==============================] - 2s 26ms/step - loss: 0.0420 - soft_acc: 0.9015 - val_loss: 0.0516 - val_soft_acc: 0.8929\n",
      "Epoch 28/100\n",
      "64/64 [==============================] - 2s 26ms/step - loss: 0.0415 - soft_acc: 0.9019 - val_loss: 0.0522 - val_soft_acc: 0.8923\n",
      "Epoch 29/100\n",
      "64/64 [==============================] - 2s 25ms/step - loss: 0.0420 - soft_acc: 0.9016 - val_loss: 0.0509 - val_soft_acc: 0.8941\n",
      "Epoch 30/100\n",
      "64/64 [==============================] - 2s 27ms/step - loss: 0.0413 - soft_acc: 0.9015 - val_loss: 0.0524 - val_soft_acc: 0.8914\n",
      "Epoch 31/100\n",
      "64/64 [==============================] - 2s 26ms/step - loss: 0.0416 - soft_acc: 0.9011 - val_loss: 0.0501 - val_soft_acc: 0.8938\n",
      "Epoch 32/100\n",
      "64/64 [==============================] - 2s 24ms/step - loss: 0.0408 - soft_acc: 0.9024 - val_loss: 0.0511 - val_soft_acc: 0.8916\n",
      "Epoch 33/100\n",
      "64/64 [==============================] - 1s 23ms/step - loss: 0.0406 - soft_acc: 0.9022 - val_loss: 0.0511 - val_soft_acc: 0.8928\n",
      "Epoch 34/100\n",
      "64/64 [==============================] - 2s 26ms/step - loss: 0.0411 - soft_acc: 0.9023 - val_loss: 0.0531 - val_soft_acc: 0.8923\n",
      "Epoch 35/100\n",
      "64/64 [==============================] - 2s 25ms/step - loss: 0.0413 - soft_acc: 0.9008 - val_loss: 0.0514 - val_soft_acc: 0.8924\n",
      "Epoch 36/100\n",
      "64/64 [==============================] - 2s 24ms/step - loss: 0.0410 - soft_acc: 0.9025 - val_loss: 0.0515 - val_soft_acc: 0.8919\n",
      "Epoch 37/100\n",
      "64/64 [==============================] - 2s 29ms/step - loss: 0.0403 - soft_acc: 0.9018 - val_loss: 0.0505 - val_soft_acc: 0.8929\n",
      "Epoch 38/100\n",
      "64/64 [==============================] - 2s 28ms/step - loss: 0.0400 - soft_acc: 0.9030 - val_loss: 0.0514 - val_soft_acc: 0.8909\n",
      "Epoch 39/100\n",
      "64/64 [==============================] - 2s 29ms/step - loss: 0.0400 - soft_acc: 0.9035 - val_loss: 0.0538 - val_soft_acc: 0.8901\n",
      "Epoch 40/100\n",
      "64/64 [==============================] - 2s 25ms/step - loss: 0.0406 - soft_acc: 0.9034 - val_loss: 0.0520 - val_soft_acc: 0.8908\n",
      "Epoch 41/100\n",
      "64/64 [==============================] - 2s 26ms/step - loss: 0.0396 - soft_acc: 0.9031 - val_loss: 0.0510 - val_soft_acc: 0.8920\n",
      "Epoch 42/100\n",
      "64/64 [==============================] - 2s 27ms/step - loss: 0.0398 - soft_acc: 0.9034 - val_loss: 0.0549 - val_soft_acc: 0.8852\n",
      "Epoch 43/100\n",
      "64/64 [==============================] - 2s 25ms/step - loss: 0.0396 - soft_acc: 0.9041 - val_loss: 0.0510 - val_soft_acc: 0.8921\n",
      "Epoch 44/100\n",
      "64/64 [==============================] - 2s 27ms/step - loss: 0.0389 - soft_acc: 0.9041 - val_loss: 0.0514 - val_soft_acc: 0.8923\n",
      "Epoch 45/100\n"
     ]
    },
    {
     "name": "stdout",
     "output_type": "stream",
     "text": [
      "64/64 [==============================] - 1s 19ms/step - loss: 0.0386 - soft_acc: 0.9054 - val_loss: 0.0530 - val_soft_acc: 0.8931\n",
      "Epoch 46/100\n",
      "64/64 [==============================] - 1s 19ms/step - loss: 0.0392 - soft_acc: 0.9053 - val_loss: 0.0510 - val_soft_acc: 0.8934\n",
      "Epoch 47/100\n",
      "64/64 [==============================] - 1s 19ms/step - loss: 0.0385 - soft_acc: 0.9053 - val_loss: 0.0521 - val_soft_acc: 0.8895\n",
      "Epoch 48/100\n",
      "64/64 [==============================] - 1s 19ms/step - loss: 0.0386 - soft_acc: 0.9052 - val_loss: 0.0515 - val_soft_acc: 0.8928\n",
      "Epoch 49/100\n",
      "64/64 [==============================] - 1s 23ms/step - loss: 0.0387 - soft_acc: 0.9055 - val_loss: 0.0527 - val_soft_acc: 0.8916\n",
      "Epoch 50/100\n",
      "64/64 [==============================] - 1s 22ms/step - loss: 0.0388 - soft_acc: 0.9054 - val_loss: 0.0541 - val_soft_acc: 0.8897\n",
      "Epoch 51/100\n",
      "64/64 [==============================] - 1s 20ms/step - loss: 0.0382 - soft_acc: 0.9059 - val_loss: 0.0522 - val_soft_acc: 0.8907\n",
      "Epoch 52/100\n",
      "64/64 [==============================] - 1s 21ms/step - loss: 0.0382 - soft_acc: 0.9052 - val_loss: 0.0519 - val_soft_acc: 0.8926\n",
      "Epoch 53/100\n",
      "64/64 [==============================] - 2s 24ms/step - loss: 0.0375 - soft_acc: 0.9071 - val_loss: 0.0520 - val_soft_acc: 0.8913\n",
      "Epoch 54/100\n",
      "64/64 [==============================] - 1s 22ms/step - loss: 0.0380 - soft_acc: 0.9061 - val_loss: 0.0548 - val_soft_acc: 0.8867\n",
      "Epoch 55/100\n",
      "64/64 [==============================] - 1s 19ms/step - loss: 0.0384 - soft_acc: 0.9062 - val_loss: 0.0528 - val_soft_acc: 0.8898\n",
      "Epoch 56/100\n",
      "64/64 [==============================] - 1s 21ms/step - loss: 0.0381 - soft_acc: 0.9066 - val_loss: 0.0526 - val_soft_acc: 0.8903\n",
      "Epoch 57/100\n",
      "64/64 [==============================] - 1s 21ms/step - loss: 0.0371 - soft_acc: 0.9072 - val_loss: 0.0522 - val_soft_acc: 0.8906\n",
      "Epoch 58/100\n",
      "64/64 [==============================] - 1s 20ms/step - loss: 0.0370 - soft_acc: 0.9076 - val_loss: 0.0543 - val_soft_acc: 0.8894\n",
      "Epoch 59/100\n",
      "64/64 [==============================] - 1s 21ms/step - loss: 0.0368 - soft_acc: 0.9085 - val_loss: 0.0528 - val_soft_acc: 0.8906\n",
      "Epoch 60/100\n",
      "64/64 [==============================] - 1s 20ms/step - loss: 0.0379 - soft_acc: 0.9062 - val_loss: 0.0620 - val_soft_acc: 0.8842\n",
      "Epoch 61/100\n",
      "64/64 [==============================] - 1s 20ms/step - loss: 0.0379 - soft_acc: 0.9078 - val_loss: 0.0555 - val_soft_acc: 0.8909\n",
      "Epoch 62/100\n",
      "64/64 [==============================] - 1s 20ms/step - loss: 0.0379 - soft_acc: 0.9071 - val_loss: 0.0526 - val_soft_acc: 0.8908\n",
      "Epoch 63/100\n",
      "64/64 [==============================] - 1s 20ms/step - loss: 0.0366 - soft_acc: 0.9084 - val_loss: 0.0545 - val_soft_acc: 0.8909\n",
      "Epoch 64/100\n",
      "64/64 [==============================] - 2s 27ms/step - loss: 0.0364 - soft_acc: 0.9086 - val_loss: 0.0537 - val_soft_acc: 0.8857\n",
      "Epoch 65/100\n",
      "64/64 [==============================] - 2s 24ms/step - loss: 0.0363 - soft_acc: 0.9089 - val_loss: 0.0529 - val_soft_acc: 0.8892\n",
      "Epoch 66/100\n",
      "64/64 [==============================] - 2s 28ms/step - loss: 0.0361 - soft_acc: 0.9083 - val_loss: 0.0528 - val_soft_acc: 0.8889\n",
      "Epoch 67/100\n",
      "64/64 [==============================] - 2s 24ms/step - loss: 0.0354 - soft_acc: 0.9099 - val_loss: 0.0534 - val_soft_acc: 0.8891\n",
      "Epoch 68/100\n",
      "64/64 [==============================] - 1s 21ms/step - loss: 0.0356 - soft_acc: 0.9097 - val_loss: 0.0535 - val_soft_acc: 0.8880\n",
      "Epoch 69/100\n",
      "64/64 [==============================] - 1s 20ms/step - loss: 0.0359 - soft_acc: 0.9095 - val_loss: 0.0537 - val_soft_acc: 0.8894\n",
      "Epoch 70/100\n",
      "64/64 [==============================] - 1s 21ms/step - loss: 0.0352 - soft_acc: 0.9102 - val_loss: 0.0572 - val_soft_acc: 0.8829\n",
      "Epoch 71/100\n",
      "64/64 [==============================] - 2s 27ms/step - loss: 0.0350 - soft_acc: 0.9107 - val_loss: 0.0540 - val_soft_acc: 0.8887\n",
      "Epoch 72/100\n",
      "64/64 [==============================] - 2s 34ms/step - loss: 0.0354 - soft_acc: 0.9103 - val_loss: 0.0532 - val_soft_acc: 0.8882\n",
      "Epoch 73/100\n",
      "64/64 [==============================] - 2s 25ms/step - loss: 0.0344 - soft_acc: 0.9117 - val_loss: 0.0542 - val_soft_acc: 0.8879\n",
      "Epoch 74/100\n",
      "64/64 [==============================] - 1s 23ms/step - loss: 0.0347 - soft_acc: 0.9110 - val_loss: 0.0559 - val_soft_acc: 0.8839\n",
      "Epoch 75/100\n",
      "64/64 [==============================] - 1s 23ms/step - loss: 0.0343 - soft_acc: 0.9113 - val_loss: 0.0568 - val_soft_acc: 0.8819\n",
      "Epoch 76/100\n",
      "64/64 [==============================] - 1s 23ms/step - loss: 0.0347 - soft_acc: 0.9104 - val_loss: 0.0580 - val_soft_acc: 0.8866\n",
      "Epoch 77/100\n",
      "64/64 [==============================] - 1s 21ms/step - loss: 0.0348 - soft_acc: 0.9102 - val_loss: 0.0551 - val_soft_acc: 0.8872\n",
      "Epoch 78/100\n",
      "64/64 [==============================] - 1s 22ms/step - loss: 0.0340 - soft_acc: 0.9118 - val_loss: 0.0559 - val_soft_acc: 0.8846\n",
      "Epoch 79/100\n",
      "64/64 [==============================] - 1s 21ms/step - loss: 0.0341 - soft_acc: 0.9121 - val_loss: 0.0550 - val_soft_acc: 0.8896\n",
      "Epoch 80/100\n",
      "64/64 [==============================] - 1s 22ms/step - loss: 0.0339 - soft_acc: 0.9127 - val_loss: 0.0548 - val_soft_acc: 0.8867\n",
      "Epoch 81/100\n",
      "64/64 [==============================] - 1s 22ms/step - loss: 0.0337 - soft_acc: 0.9119 - val_loss: 0.0550 - val_soft_acc: 0.8886\n",
      "Epoch 82/100\n",
      "64/64 [==============================] - 2s 25ms/step - loss: 0.0332 - soft_acc: 0.9128 - val_loss: 0.0580 - val_soft_acc: 0.8812\n",
      "Epoch 83/100\n",
      "64/64 [==============================] - 1s 22ms/step - loss: 0.0332 - soft_acc: 0.9129 - val_loss: 0.0553 - val_soft_acc: 0.8859\n",
      "Epoch 84/100\n",
      "64/64 [==============================] - 1s 21ms/step - loss: 0.0328 - soft_acc: 0.9135 - val_loss: 0.0572 - val_soft_acc: 0.8827\n",
      "Epoch 85/100\n",
      "64/64 [==============================] - 1s 23ms/step - loss: 0.0327 - soft_acc: 0.9139 - val_loss: 0.0564 - val_soft_acc: 0.8833\n",
      "Epoch 86/100\n",
      "64/64 [==============================] - 1s 22ms/step - loss: 0.0332 - soft_acc: 0.9132 - val_loss: 0.0561 - val_soft_acc: 0.8854\n",
      "Epoch 87/100\n",
      "64/64 [==============================] - 1s 22ms/step - loss: 0.0326 - soft_acc: 0.9149 - val_loss: 0.0584 - val_soft_acc: 0.8811\n",
      "Epoch 88/100\n",
      "64/64 [==============================] - 1s 21ms/step - loss: 0.0332 - soft_acc: 0.9132 - val_loss: 0.0562 - val_soft_acc: 0.8861\n",
      "Epoch 89/100\n",
      "64/64 [==============================] - 1s 22ms/step - loss: 0.0326 - soft_acc: 0.9135 - val_loss: 0.0558 - val_soft_acc: 0.8864\n",
      "Epoch 90/100\n",
      "64/64 [==============================] - 1s 22ms/step - loss: 0.0320 - soft_acc: 0.9135 - val_loss: 0.0576 - val_soft_acc: 0.8836\n",
      "Epoch 91/100\n",
      "64/64 [==============================] - 1s 22ms/step - loss: 0.0317 - soft_acc: 0.9145 - val_loss: 0.0561 - val_soft_acc: 0.8851\n",
      "Epoch 92/100\n",
      "64/64 [==============================] - 1s 21ms/step - loss: 0.0321 - soft_acc: 0.9139 - val_loss: 0.0564 - val_soft_acc: 0.8849\n",
      "Epoch 93/100\n",
      "64/64 [==============================] - 2s 25ms/step - loss: 0.0319 - soft_acc: 0.9154 - val_loss: 0.0596 - val_soft_acc: 0.8836\n",
      "Epoch 94/100\n",
      "64/64 [==============================] - 1s 23ms/step - loss: 0.0314 - soft_acc: 0.9151 - val_loss: 0.0587 - val_soft_acc: 0.8837\n",
      "Epoch 95/100\n",
      "64/64 [==============================] - 1s 22ms/step - loss: 0.0317 - soft_acc: 0.9163 - val_loss: 0.0570 - val_soft_acc: 0.8837\n",
      "Epoch 96/100\n",
      "64/64 [==============================] - 2s 34ms/step - loss: 0.0315 - soft_acc: 0.9157 - val_loss: 0.0604 - val_soft_acc: 0.8807\n",
      "Epoch 97/100\n",
      "64/64 [==============================] - 2s 32ms/step - loss: 0.0315 - soft_acc: 0.9161 - val_loss: 0.0573 - val_soft_acc: 0.8844\n",
      "Epoch 98/100\n",
      "64/64 [==============================] - 2s 36ms/step - loss: 0.0310 - soft_acc: 0.9175 - val_loss: 0.0576 - val_soft_acc: 0.8855\n",
      "Epoch 99/100\n",
      "64/64 [==============================] - 2s 32ms/step - loss: 0.0316 - soft_acc: 0.9159 - val_loss: 0.0573 - val_soft_acc: 0.8831\n",
      "Epoch 100/100\n",
      "64/64 [==============================] - 2s 28ms/step - loss: 0.0316 - soft_acc: 0.9143 - val_loss: 0.0588 - val_soft_acc: 0.8818\n"
     ]
    }
   ],
   "source": [
    "model = Model()\n",
    "history = model.fit(X_train, y_train, validation_split=0.2, shuffle=True,\n",
    "                         validation_data=(X_test,y_test), \n",
    "                         epochs=100, batch_size=1000)"
   ]
  },
  {
   "cell_type": "code",
   "execution_count": 49,
   "id": "6c6de4cb",
   "metadata": {},
   "outputs": [
    {
     "data": {
      "image/png": "[encoded data removed]",
      "text/plain": [
       "<Figure size 936x288 with 2 Axes>"
      ]
     },
     "metadata": {
      "needs_background": "light"
     },
     "output_type": "display_data"
    }
   ],
   "source": [
    "%matplotlib inline\n",
    "\n",
    "def plots(acc, val_acc, loss, val_loss):\n",
    "    fig, (ax1, ax2) = plt.subplots(ncols=2, sharey=False)\n",
    "\n",
    "    # plot accuracy\n",
    "    ax1.plot(acc, label='Training')\n",
    "    if val_acc is not None:\n",
    "        ax1.plot(val_acc, label='Validation')\n",
    "\n",
    "    ax1.set_xlabel('Epoch')\n",
    "    ax1.set_title('Model Accuracy')\n",
    "    ax1.legend(loc='upper left')\n",
    "    ax1.set_ylim([0,1])\n",
    "\n",
    "    # plot loss\n",
    "    ax2.plot(loss, label='Training')\n",
    "    if val_loss is not None:\n",
    "        ax2.plot(val_loss, label='Validation')\n",
    "\n",
    "    ax2.set_xlabel('Epoch')\n",
    "    ax2.set_title('Model Loss')\n",
    "    ax2.legend(loc='upper right')\n",
    "    ax2.set_ylim([0,1])\n",
    "\n",
    "    plt.show()\n",
    "\n",
    "plt.rcParams[\"figure.figsize\"] = (13,4)\n",
    "plots(history.history[\"soft_acc\"],history.history['val_soft_acc'],\n",
    "      history.history[\"loss\"],history.history['val_loss'])"
   ]
  },
  {
   "cell_type": "code",
   "execution_count": null,
   "id": "5b3738a3",
   "metadata": {},
   "outputs": [],
   "source": []
  },
  {
   "cell_type": "code",
   "execution_count": null,
   "id": "e07a4d40",
   "metadata": {},
   "outputs": [],
   "source": []
  }
 ],
 "metadata": {
  "kernelspec": {
   "display_name": "Python 3",
   "language": "python",
   "name": "python3"
  },
  "language_info": {
   "codemirror_mode": {
    "name": "ipython",
    "version": 3
   },
   "file_extension": ".py",
   "mimetype": "text/x-python",
   "name": "python",
   "nbconvert_exporter": "python",
   "pygments_lexer": "ipython3",
   "version": "3.7.0"
  }
 },
 "nbformat": 4,
 "nbformat_minor": 5
}
